{
 "cells": [
  {
   "cell_type": "code",
   "execution_count": 45,
   "id": "d1d60d54-c03a-43ea-92eb-588c625db1c2",
   "metadata": {},
   "outputs": [],
   "source": [
    "import numpy as np\n",
    "from pathlib import Path\n",
    "from datetime import datetime\n",
    "import matplotlib.pyplot as plt\n",
    "from IPython.display import clear_output\n",
    "\n",
    "import numpy as np\n",
    "import tensorflow as tf\n",
    "from sklearn.utils import shuffle\n",
    "from visualkeras import layered_view\n",
    "from tensorflow.keras.utils import to_categorical\n",
    "from tensorflow.keras.callbacks import ReduceLROnPlateau\n",
    "from tensorflow.keras.models import Sequential, Model, load_model\n",
    "from tensorflow.keras.datasets import mnist, cifar10, fashion_mnist\n",
    "from tensorflow.keras.layers import Dense, Flatten, UpSampling2D, Dropout, GlobalAveragePooling2D, Input\n",
    "from tensorflow.keras.preprocessing.image import img_to_array, array_to_img\n",
    "from tensorflow.keras.applications import ResNet50, MobileNet, MobileNetV2, MobileNetV3Small\n",
    "\n",
    "from gand.data import data\n",
    "from gand.config import MLConfig\n",
    "from gand.preprocessing import utils\n",
    "from gand.visualisation import visualise\n",
    "from gand.models import models, architecture\n",
    "\n",
    "import pandas as pd\n",
    "from tabulate import tabulate\n",
    "from tqdm.keras import TqdmCallback\n",
    "from sklearn.metrics import classification_report"
   ]
  },
  {
   "cell_type": "code",
   "execution_count": 46,
   "id": "accbe042-99ae-4507-8dd1-765e1796f05a",
   "metadata": {},
   "outputs": [
    {
     "name": "stdout",
     "output_type": "stream",
     "text": [
      "The autoreload extension is already loaded. To reload it, use:\n",
      "  %reload_ext autoreload\n"
     ]
    }
   ],
   "source": [
    "%load_ext autoreload\n",
    "%autoreload 2"
   ]
  },
  {
   "cell_type": "code",
   "execution_count": 51,
   "id": "7e1c9d0f-ed62-4deb-8371-7f8909ad2ee2",
   "metadata": {},
   "outputs": [],
   "source": [
    "dataset = fashion_mnist\n",
    "EPOCHS = 100\n",
    "BATCH_SIZE = MLConfig.BATCH_SIZE\n",
    "\n",
    "loss = \"categorical_crossentropy\"\n",
    "opt = tf.keras.optimizers.legacy.SGD(learning_rate=0.0001, momentum=0.9)\n",
    "metrics = [\"accuracy\"]\n",
    "\n",
    "g_model_mnist = load_model(Path.cwd() / 'notebooks/models/cgan/mnist/gen_model_e-200.h5')\n",
    "g_model_fashion_mnist = load_model(Path.cwd() / 'notebooks/models/cgan/fashion_mnist/gen_model_e-536.h5')\n",
    "g_model_cifar10 = load_model(Path.cwd() / 'notebooks/models/cgan/cifar10/gen_model_e-553.h5')\n",
    "g_model = g_model_fashion_mnist\n",
    "\n",
    "train_with_gan = False\n",
    "imbalance_data = True\n",
    "\n",
    "reshape_image = True\n",
    "\n",
    "train_type = 0\n",
    "\n",
    "TRANSFER_LEARNING_MODEL = ResNet50\n",
    "TRANSFER_LEARNING_PREPROCESSOR = tf.keras.applications.resnet50.preprocess_input"
   ]
  },
  {
   "cell_type": "code",
   "execution_count": 52,
   "id": "8f6c06cb-ffb7-4163-b060-0e68d09be609",
   "metadata": {},
   "outputs": [
    {
     "name": "stdout",
     "output_type": "stream",
     "text": [
      "['imbalanced-Resnet50']\n"
     ]
    }
   ],
   "source": [
    "name = 'normal'\n",
    "if train_with_gan:\n",
    "    name = 'gans'\n",
    "elif imbalance_data:\n",
    "    name = 'imbalanced'\n",
    "\n",
    "MLConfig.TYPE_NAMES = [f'{name}-{TRANSFER_LEARNING_MODEL().name.capitalize()}']\n",
    "print(MLConfig.TYPE_NAMES)"
   ]
  },
  {
   "cell_type": "markdown",
   "id": "f77bde76-3478-470f-af95-a6904fb4d4d5",
   "metadata": {},
   "source": [
    "# Training"
   ]
  },
  {
   "cell_type": "markdown",
   "id": "0777bc27-f4a3-4288-81bf-1d93087271fe",
   "metadata": {},
   "source": [
    "### GAN Data"
   ]
  },
  {
   "cell_type": "code",
   "execution_count": 53,
   "id": "6658fe87-8b4d-497c-babf-98158e047b5e",
   "metadata": {},
   "outputs": [],
   "source": [
    "X_train_gan, y_train_gan = None, None\n",
    "if train_with_gan:\n",
    "    imbalance_data = True\n",
    "    # GAN DATA\n",
    "    n = 3000\n",
    "    X_train_gan, y_train_gan = data.generate_fake_data(n=n, g_model=g_model, seed=10, verbose=1)\n",
    "    print(X_train_gan.shape, y_train_gan.shape)\n",
    "    \n",
    "    X_train_gan = (X_train_gan+1) * 127.5\n",
    "    \n",
    "    if X_train_gan.shape[-1] == 1:\n",
    "        X_train_gan = np.repeat(X_train_gan, 3, axis=-1)\n",
    "\n",
    "        if reshape_image:\n",
    "            X_train_gan = np.array(tf.image.resize(X_train_gan, [32,32]))\n",
    "            \n",
    "    X_train_gan = TRANSFER_LEARNING_PREPROCESSOR(X_train_gan)\n",
    "    y_train_gan = to_categorical(y_train_gan, num_classes=10)\n",
    "    \n",
    "    print(X_train_gan.min(), X_train_gan.max(), X_train_gan.shape, y_train_gan.shape)"
   ]
  },
  {
   "cell_type": "markdown",
   "id": "c31a0747-c056-4505-8b1f-2614c16f486b",
   "metadata": {},
   "source": [
    "### Normal Data"
   ]
  },
  {
   "cell_type": "code",
   "execution_count": 54,
   "id": "a19c7192-922e-4b4a-8aa2-74a98dcd3806",
   "metadata": {},
   "outputs": [
    {
     "name": "stdout",
     "output_type": "stream",
     "text": [
      "(60000, 28, 28) (60000,) (10000, 28, 28) (10000,) fashion_mnist\n",
      "-123.68 151.061 -123.68 151.061\n",
      "(60000, 32, 32, 3) (60000, 10) (10000, 32, 32, 3) (10000, 10) fashion_mnist\n",
      "(30000, 32, 32, 3) (30000, 10) (10000, 32, 32, 3) (10000, 10) fashion_mnist\n"
     ]
    }
   ],
   "source": [
    "((X_train_real, y_train_real), (X_test_real, y_test_real)), dataset_name = data.load_dataset(dataset, return_name=True)\n",
    "print(X_train_real.shape, y_train_real.shape, X_test_real.shape, y_test_real.shape, dataset_name)\n",
    "\n",
    "if len(X_train_real.shape) == 3:\n",
    "    X_train_real = np.expand_dims(X_train_real, axis=-1)\n",
    "    X_test_real = np.expand_dims(X_test_real, axis=-1)\n",
    "    \n",
    "    X_train_real = np.repeat(X_train_real, 3, axis=-1)\n",
    "    X_test_real = np.repeat(X_test_real, 3, axis=-1)\n",
    "\n",
    "    if reshape_image:\n",
    "        X_train_real = np.array(tf.image.resize(X_train_real, [32,32]))\n",
    "        X_test_real = np.array(tf.image.resize(X_test_real, [32,32]))\n",
    "\n",
    "X_train_real = TRANSFER_LEARNING_PREPROCESSOR(X_train_real)\n",
    "X_test_real = TRANSFER_LEARNING_PREPROCESSOR(X_test_real)\n",
    "\n",
    "print(X_train_real.min(), X_train_real.max(), X_test_real.min(), X_test_real.max())\n",
    "\n",
    "y_train_real = to_categorical(y_train_real, num_classes=10)\n",
    "y_test_real = to_categorical(y_test_real, num_classes=10)\n",
    "print(X_train_real.shape, y_train_real.shape, X_test_real.shape, y_test_real.shape, dataset_name)\n",
    "\n",
    "if imbalance_data:\n",
    "    # REMOVING 50%\n",
    "    # keep_per_class = 2000\n",
    "    keep_per_class = (X_train_real.shape[0] // (2 * 10))\n",
    "    X_train_removed, y_train_removed = [], []\n",
    "    for i in range(y_train_real.shape[-1]):\n",
    "        class_idx = np.where(np.argmax(y_train_real, axis=-1) == i)[0]\n",
    "        selected_idx = np.random.choice(class_idx, keep_per_class)\n",
    "        X_train_removed.append(X_train_real[selected_idx])\n",
    "        y_train_removed.append(y_train_real[selected_idx])\n",
    "    \n",
    "    X_train_real, y_train_real = np.concatenate(X_train_removed, axis=0), np.concatenate(y_train_removed, axis=0)\n",
    "\n",
    "print(X_train_real.shape, y_train_real.shape, X_test_real.shape, y_test_real.shape, dataset_name)"
   ]
  },
  {
   "cell_type": "markdown",
   "id": "69a56167-93a8-45ec-82ac-f49785e1b83d",
   "metadata": {},
   "source": [
    "### Appending GAN Data"
   ]
  },
  {
   "cell_type": "code",
   "execution_count": 55,
   "id": "08d2f4c4-8920-43be-8490-4d5db37c0657",
   "metadata": {},
   "outputs": [],
   "source": [
    "if train_with_gan:\n",
    "    X_train_real = np.concatenate((X_train_real, X_train_gan), axis=0)\n",
    "    y_train_real = np.concatenate((y_train_real, y_train_gan), axis=0)\n",
    "    print(X_train_real.shape, y_train_real.shape, X_test_real.shape, y_test_real.shape, dataset_name)"
   ]
  },
  {
   "cell_type": "markdown",
   "id": "ae8ac567-20b6-482b-88ce-75e6d26fc842",
   "metadata": {},
   "source": [
    "### Shuffle It"
   ]
  },
  {
   "cell_type": "code",
   "execution_count": 56,
   "id": "dffd4b3a-f9ab-4154-960b-8842772f83ee",
   "metadata": {},
   "outputs": [
    {
     "name": "stdout",
     "output_type": "stream",
     "text": [
      "(30000, 32, 32, 3) (30000, 10) (10000, 32, 32, 3) (10000, 10) fashion_mnist\n"
     ]
    }
   ],
   "source": [
    "X_train_real, y_train_real = shuffle(X_train_real, y_train_real)\n",
    "X_test_real, y_test_real = shuffle(X_test_real, y_test_real)\n",
    "print(X_train_real.shape, y_train_real.shape, X_test_real.shape, y_test_real.shape, dataset_name)"
   ]
  },
  {
   "cell_type": "markdown",
   "id": "910ca9ff-5251-4887-b07f-f1d950f9404c",
   "metadata": {},
   "source": [
    "### Make it Faster"
   ]
  },
  {
   "cell_type": "code",
   "execution_count": 57,
   "id": "5e3d31b3-3263-4055-8d6a-8878511d9007",
   "metadata": {},
   "outputs": [],
   "source": [
    "# train_data = tf.data.Dataset.from_tensor_slices((X_train_real, y_train_real))\n",
    "# test_data = tf.data.Dataset.from_tensor_slices((X_test_real, y_test_real))\n",
    "\n",
    "# train_data = train_data.batch(BATCH_SIZE).prefetch(tf.data.AUTOTUNE)\n",
    "# test_data = test_data.batch(BATCH_SIZE).prefetch(tf.data.AUTOTUNE)\n",
    "\n",
    "# train_data, test_data, dataset_name"
   ]
  },
  {
   "cell_type": "code",
   "execution_count": 58,
   "id": "98827401-1cf6-4673-80db-b9f9eea16425",
   "metadata": {},
   "outputs": [
    {
     "data": {
      "text/plain": [
       "'imbalanced-Resnet50'"
      ]
     },
     "execution_count": 58,
     "metadata": {},
     "output_type": "execute_result"
    }
   ],
   "source": [
    "MLConfig.TYPE_NAMES[train_type]"
   ]
  },
  {
   "cell_type": "code",
   "execution_count": 59,
   "id": "5aa4f8b3-1935-4310-bd8c-a562d7af3459",
   "metadata": {},
   "outputs": [
    {
     "data": {
      "text/plain": [
       "(32, 32, 3)"
      ]
     },
     "execution_count": 59,
     "metadata": {},
     "output_type": "execute_result"
    }
   ],
   "source": [
    "X_train_real.shape[1:]"
   ]
  },
  {
   "cell_type": "code",
   "execution_count": 36,
   "id": "73f11a5d-75f9-40cf-9d35-1a990eee7e83",
   "metadata": {},
   "outputs": [],
   "source": [
    "base_model = TRANSFER_LEARNING_MODEL(weights='imagenet', include_top=False, input_shape=(32, 32, 3))\n",
    "base_model.trainable=False\n",
    "# upsamp = 7\n",
    "# if X_train_real.shape[1] == 28:\n",
    "#     upsamp = 8\n",
    "\n",
    "input = Input(shape=X_train_real.shape[1:])\n",
    "# layer = UpSampling2D(size=(upsamp, upsamp))(input)\n",
    "assert input.shape == (None, 32, 32, 3)\n",
    "\n",
    "layer = base_model(input)\n",
    "layer = GlobalAveragePooling2D( )(layer)\n",
    "layer = Flatten()(layer)\n",
    "# layer = Dense(512, activation='relu')(layer)\n",
    "# layer = Dropout(0.25)(layer)\n",
    "layer = Dense(512)(layer)\n",
    "layer = Dropout(0.25)(layer)\n",
    "output = Dense(10, activation='softmax')(layer)\n",
    "\n",
    "model = Model(input, output, name=MLConfig.TYPE_NAMES[train_type])"
   ]
  },
  {
   "cell_type": "code",
   "execution_count": 61,
   "id": "fdd3cd7d-6f88-408c-8f5a-fd7de4a7fa38",
   "metadata": {},
   "outputs": [],
   "source": [
    "base_model = TRANSFER_LEARNING_MODEL(weights='imagenet', include_top=False, \n",
    "                                     input_shape=(32, 32, 3))\n",
    "base_model.trainable=False\n",
    "\n",
    "model = Sequential([\n",
    "    base_model,\n",
    "    GlobalAveragePooling2D(),\n",
    "    Flatten(),\n",
    "    # Dense(1024, activation='relu'),\n",
    "    # Dropout(0.25),\n",
    "    Dense(512, activation='relu'),\n",
    "    Dropout(0.5),\n",
    "    Dense(10, activation='softmax')\n",
    "], name=MLConfig.TYPE_NAMES[train_type])"
   ]
  },
  {
   "cell_type": "code",
   "execution_count": 62,
   "id": "1a5eb9fe-b315-4685-9c0c-366e52f64933",
   "metadata": {},
   "outputs": [
    {
     "name": "stdout",
     "output_type": "stream",
     "text": [
      "Model: \"imbalanced-Resnet50\"\n",
      "_________________________________________________________________\n",
      " Layer (type)                Output Shape              Param #   \n",
      "=================================================================\n",
      " resnet50 (Functional)       (None, 1, 1, 2048)        23587712  \n",
      "                                                                 \n",
      " global_average_pooling2d_2   (None, 2048)             0         \n",
      " (GlobalAveragePooling2D)                                        \n",
      "                                                                 \n",
      " flatten_6 (Flatten)         (None, 2048)              0         \n",
      "                                                                 \n",
      " dense_12 (Dense)            (None, 512)               1049088   \n",
      "                                                                 \n",
      " dropout_6 (Dropout)         (None, 512)               0         \n",
      "                                                                 \n",
      " dense_13 (Dense)            (None, 10)                5130      \n",
      "                                                                 \n",
      "=================================================================\n",
      "Total params: 24,641,930\n",
      "Trainable params: 1,054,218\n",
      "Non-trainable params: 23,587,712\n",
      "_________________________________________________________________\n"
     ]
    }
   ],
   "source": [
    "opt = tf.keras.optimizers.legacy.SGD(learning_rate=0.001, momentum=0.9)\n",
    "model.compile(optimizer=opt, loss=loss, metrics=metrics)\n",
    "model.summary()"
   ]
  },
  {
   "cell_type": "code",
   "execution_count": 63,
   "id": "2db4ca26-ac23-45a1-bff8-1ef33fe0e721",
   "metadata": {},
   "outputs": [
    {
     "data": {
      "application/vnd.jupyter.widget-view+json": {
       "model_id": "65a7c91f46954e4fbd08ceda8c1de4dd",
       "version_major": 2,
       "version_minor": 0
      },
      "text/plain": [
       "0epoch [00:00, ?epoch/s]"
      ]
     },
     "metadata": {},
     "output_type": "display_data"
    },
    {
     "data": {
      "application/vnd.jupyter.widget-view+json": {
       "model_id": "9eb74fa60f0942df8cdd06b5ef558888",
       "version_major": 2,
       "version_minor": 0
      },
      "text/plain": [
       "0batch [00:00, ?batch/s]"
      ]
     },
     "metadata": {},
     "output_type": "display_data"
    },
    {
     "ename": "KeyboardInterrupt",
     "evalue": "",
     "output_type": "error",
     "traceback": [
      "\u001b[0;31m---------------------------------------------------------------------------\u001b[0m",
      "\u001b[0;31mKeyboardInterrupt\u001b[0m                         Traceback (most recent call last)",
      "Cell \u001b[0;32mIn[63], line 1\u001b[0m\n\u001b[0;32m----> 1\u001b[0m history \u001b[38;5;241m=\u001b[39m \u001b[43mmodel\u001b[49m\u001b[38;5;241;43m.\u001b[39;49m\u001b[43mfit\u001b[49m\u001b[43m(\u001b[49m\u001b[43mX_train_real\u001b[49m\u001b[43m,\u001b[49m\u001b[43m \u001b[49m\u001b[43my_train_real\u001b[49m\u001b[43m,\u001b[49m\u001b[43m \u001b[49m\u001b[43mbatch_size\u001b[49m\u001b[38;5;241;43m=\u001b[39;49m\u001b[43mBATCH_SIZE\u001b[49m\u001b[43m,\u001b[49m\u001b[43m \u001b[49m\n\u001b[1;32m      2\u001b[0m \u001b[43m                    \u001b[49m\u001b[43mepochs\u001b[49m\u001b[38;5;241;43m=\u001b[39;49m\u001b[43mEPOCHS\u001b[49m\u001b[43m,\u001b[49m\u001b[43m \u001b[49m\u001b[43mvalidation_data\u001b[49m\u001b[38;5;241;43m=\u001b[39;49m\u001b[43m(\u001b[49m\u001b[43mX_test_real\u001b[49m\u001b[43m,\u001b[49m\u001b[43m \u001b[49m\u001b[43my_test_real\u001b[49m\u001b[43m)\u001b[49m\u001b[43m,\u001b[49m\u001b[43m \u001b[49m\u001b[43mverbose\u001b[49m\u001b[38;5;241;43m=\u001b[39;49m\u001b[38;5;241;43m0\u001b[39;49m\u001b[43m,\u001b[49m\u001b[43m \u001b[49m\n\u001b[1;32m      3\u001b[0m \u001b[43m                    \u001b[49m\u001b[43mcallbacks\u001b[49m\u001b[38;5;241;43m=\u001b[39;49m\u001b[43m[\u001b[49m\u001b[43mTqdmCallback\u001b[49m\u001b[43m(\u001b[49m\u001b[43mverbose\u001b[49m\u001b[38;5;241;43m=\u001b[39;49m\u001b[38;5;241;43m1\u001b[39;49m\u001b[43m)\u001b[49m\u001b[43m]\u001b[49m\u001b[43m,\u001b[49m\u001b[43m \u001b[49m\u001b[43mshuffle\u001b[49m\u001b[38;5;241;43m=\u001b[39;49m\u001b[38;5;28;43;01mTrue\u001b[39;49;00m\u001b[43m)\u001b[49m\n",
      "File \u001b[0;32m~/anaconda3/envs/tensorflow_env/lib/python3.8/site-packages/keras/utils/traceback_utils.py:65\u001b[0m, in \u001b[0;36mfilter_traceback.<locals>.error_handler\u001b[0;34m(*args, **kwargs)\u001b[0m\n\u001b[1;32m     63\u001b[0m filtered_tb \u001b[38;5;241m=\u001b[39m \u001b[38;5;28;01mNone\u001b[39;00m\n\u001b[1;32m     64\u001b[0m \u001b[38;5;28;01mtry\u001b[39;00m:\n\u001b[0;32m---> 65\u001b[0m     \u001b[38;5;28;01mreturn\u001b[39;00m \u001b[43mfn\u001b[49m\u001b[43m(\u001b[49m\u001b[38;5;241;43m*\u001b[39;49m\u001b[43margs\u001b[49m\u001b[43m,\u001b[49m\u001b[43m \u001b[49m\u001b[38;5;241;43m*\u001b[39;49m\u001b[38;5;241;43m*\u001b[39;49m\u001b[43mkwargs\u001b[49m\u001b[43m)\u001b[49m\n\u001b[1;32m     66\u001b[0m \u001b[38;5;28;01mexcept\u001b[39;00m \u001b[38;5;167;01mException\u001b[39;00m \u001b[38;5;28;01mas\u001b[39;00m e:\n\u001b[1;32m     67\u001b[0m     filtered_tb \u001b[38;5;241m=\u001b[39m _process_traceback_frames(e\u001b[38;5;241m.\u001b[39m__traceback__)\n",
      "File \u001b[0;32m~/anaconda3/envs/tensorflow_env/lib/python3.8/site-packages/keras/engine/training.py:1685\u001b[0m, in \u001b[0;36mModel.fit\u001b[0;34m(self, x, y, batch_size, epochs, verbose, callbacks, validation_split, validation_data, shuffle, class_weight, sample_weight, initial_epoch, steps_per_epoch, validation_steps, validation_batch_size, validation_freq, max_queue_size, workers, use_multiprocessing)\u001b[0m\n\u001b[1;32m   1677\u001b[0m \u001b[38;5;28;01mwith\u001b[39;00m tf\u001b[38;5;241m.\u001b[39mprofiler\u001b[38;5;241m.\u001b[39mexperimental\u001b[38;5;241m.\u001b[39mTrace(\n\u001b[1;32m   1678\u001b[0m     \u001b[38;5;124m\"\u001b[39m\u001b[38;5;124mtrain\u001b[39m\u001b[38;5;124m\"\u001b[39m,\n\u001b[1;32m   1679\u001b[0m     epoch_num\u001b[38;5;241m=\u001b[39mepoch,\n\u001b[0;32m   (...)\u001b[0m\n\u001b[1;32m   1682\u001b[0m     _r\u001b[38;5;241m=\u001b[39m\u001b[38;5;241m1\u001b[39m,\n\u001b[1;32m   1683\u001b[0m ):\n\u001b[1;32m   1684\u001b[0m     callbacks\u001b[38;5;241m.\u001b[39mon_train_batch_begin(step)\n\u001b[0;32m-> 1685\u001b[0m     tmp_logs \u001b[38;5;241m=\u001b[39m \u001b[38;5;28;43mself\u001b[39;49m\u001b[38;5;241;43m.\u001b[39;49m\u001b[43mtrain_function\u001b[49m\u001b[43m(\u001b[49m\u001b[43miterator\u001b[49m\u001b[43m)\u001b[49m\n\u001b[1;32m   1686\u001b[0m     \u001b[38;5;28;01mif\u001b[39;00m data_handler\u001b[38;5;241m.\u001b[39mshould_sync:\n\u001b[1;32m   1687\u001b[0m         context\u001b[38;5;241m.\u001b[39masync_wait()\n",
      "File \u001b[0;32m~/anaconda3/envs/tensorflow_env/lib/python3.8/site-packages/tensorflow/python/util/traceback_utils.py:150\u001b[0m, in \u001b[0;36mfilter_traceback.<locals>.error_handler\u001b[0;34m(*args, **kwargs)\u001b[0m\n\u001b[1;32m    148\u001b[0m filtered_tb \u001b[38;5;241m=\u001b[39m \u001b[38;5;28;01mNone\u001b[39;00m\n\u001b[1;32m    149\u001b[0m \u001b[38;5;28;01mtry\u001b[39;00m:\n\u001b[0;32m--> 150\u001b[0m   \u001b[38;5;28;01mreturn\u001b[39;00m \u001b[43mfn\u001b[49m\u001b[43m(\u001b[49m\u001b[38;5;241;43m*\u001b[39;49m\u001b[43margs\u001b[49m\u001b[43m,\u001b[49m\u001b[43m \u001b[49m\u001b[38;5;241;43m*\u001b[39;49m\u001b[38;5;241;43m*\u001b[39;49m\u001b[43mkwargs\u001b[49m\u001b[43m)\u001b[49m\n\u001b[1;32m    151\u001b[0m \u001b[38;5;28;01mexcept\u001b[39;00m \u001b[38;5;167;01mException\u001b[39;00m \u001b[38;5;28;01mas\u001b[39;00m e:\n\u001b[1;32m    152\u001b[0m   filtered_tb \u001b[38;5;241m=\u001b[39m _process_traceback_frames(e\u001b[38;5;241m.\u001b[39m__traceback__)\n",
      "File \u001b[0;32m~/anaconda3/envs/tensorflow_env/lib/python3.8/site-packages/tensorflow/python/eager/polymorphic_function/polymorphic_function.py:894\u001b[0m, in \u001b[0;36mFunction.__call__\u001b[0;34m(self, *args, **kwds)\u001b[0m\n\u001b[1;32m    891\u001b[0m compiler \u001b[38;5;241m=\u001b[39m \u001b[38;5;124m\"\u001b[39m\u001b[38;5;124mxla\u001b[39m\u001b[38;5;124m\"\u001b[39m \u001b[38;5;28;01mif\u001b[39;00m \u001b[38;5;28mself\u001b[39m\u001b[38;5;241m.\u001b[39m_jit_compile \u001b[38;5;28;01melse\u001b[39;00m \u001b[38;5;124m\"\u001b[39m\u001b[38;5;124mnonXla\u001b[39m\u001b[38;5;124m\"\u001b[39m\n\u001b[1;32m    893\u001b[0m \u001b[38;5;28;01mwith\u001b[39;00m OptionalXlaContext(\u001b[38;5;28mself\u001b[39m\u001b[38;5;241m.\u001b[39m_jit_compile):\n\u001b[0;32m--> 894\u001b[0m   result \u001b[38;5;241m=\u001b[39m \u001b[38;5;28;43mself\u001b[39;49m\u001b[38;5;241;43m.\u001b[39;49m\u001b[43m_call\u001b[49m\u001b[43m(\u001b[49m\u001b[38;5;241;43m*\u001b[39;49m\u001b[43margs\u001b[49m\u001b[43m,\u001b[49m\u001b[43m \u001b[49m\u001b[38;5;241;43m*\u001b[39;49m\u001b[38;5;241;43m*\u001b[39;49m\u001b[43mkwds\u001b[49m\u001b[43m)\u001b[49m\n\u001b[1;32m    896\u001b[0m new_tracing_count \u001b[38;5;241m=\u001b[39m \u001b[38;5;28mself\u001b[39m\u001b[38;5;241m.\u001b[39mexperimental_get_tracing_count()\n\u001b[1;32m    897\u001b[0m without_tracing \u001b[38;5;241m=\u001b[39m (tracing_count \u001b[38;5;241m==\u001b[39m new_tracing_count)\n",
      "File \u001b[0;32m~/anaconda3/envs/tensorflow_env/lib/python3.8/site-packages/tensorflow/python/eager/polymorphic_function/polymorphic_function.py:926\u001b[0m, in \u001b[0;36mFunction._call\u001b[0;34m(self, *args, **kwds)\u001b[0m\n\u001b[1;32m    923\u001b[0m   \u001b[38;5;28mself\u001b[39m\u001b[38;5;241m.\u001b[39m_lock\u001b[38;5;241m.\u001b[39mrelease()\n\u001b[1;32m    924\u001b[0m   \u001b[38;5;66;03m# In this case we have created variables on the first call, so we run the\u001b[39;00m\n\u001b[1;32m    925\u001b[0m   \u001b[38;5;66;03m# defunned version which is guaranteed to never create variables.\u001b[39;00m\n\u001b[0;32m--> 926\u001b[0m   \u001b[38;5;28;01mreturn\u001b[39;00m \u001b[38;5;28;43mself\u001b[39;49m\u001b[38;5;241;43m.\u001b[39;49m\u001b[43m_no_variable_creation_fn\u001b[49m\u001b[43m(\u001b[49m\u001b[38;5;241;43m*\u001b[39;49m\u001b[43margs\u001b[49m\u001b[43m,\u001b[49m\u001b[43m \u001b[49m\u001b[38;5;241;43m*\u001b[39;49m\u001b[38;5;241;43m*\u001b[39;49m\u001b[43mkwds\u001b[49m\u001b[43m)\u001b[49m  \u001b[38;5;66;03m# pylint: disable=not-callable\u001b[39;00m\n\u001b[1;32m    927\u001b[0m \u001b[38;5;28;01melif\u001b[39;00m \u001b[38;5;28mself\u001b[39m\u001b[38;5;241m.\u001b[39m_variable_creation_fn \u001b[38;5;129;01mis\u001b[39;00m \u001b[38;5;129;01mnot\u001b[39;00m \u001b[38;5;28;01mNone\u001b[39;00m:\n\u001b[1;32m    928\u001b[0m   \u001b[38;5;66;03m# Release the lock early so that multiple threads can perform the call\u001b[39;00m\n\u001b[1;32m    929\u001b[0m   \u001b[38;5;66;03m# in parallel.\u001b[39;00m\n\u001b[1;32m    930\u001b[0m   \u001b[38;5;28mself\u001b[39m\u001b[38;5;241m.\u001b[39m_lock\u001b[38;5;241m.\u001b[39mrelease()\n",
      "File \u001b[0;32m~/anaconda3/envs/tensorflow_env/lib/python3.8/site-packages/tensorflow/python/eager/polymorphic_function/tracing_compiler.py:143\u001b[0m, in \u001b[0;36mTracingCompiler.__call__\u001b[0;34m(self, *args, **kwargs)\u001b[0m\n\u001b[1;32m    140\u001b[0m \u001b[38;5;28;01mwith\u001b[39;00m \u001b[38;5;28mself\u001b[39m\u001b[38;5;241m.\u001b[39m_lock:\n\u001b[1;32m    141\u001b[0m   (concrete_function,\n\u001b[1;32m    142\u001b[0m    filtered_flat_args) \u001b[38;5;241m=\u001b[39m \u001b[38;5;28mself\u001b[39m\u001b[38;5;241m.\u001b[39m_maybe_define_function(args, kwargs)\n\u001b[0;32m--> 143\u001b[0m \u001b[38;5;28;01mreturn\u001b[39;00m \u001b[43mconcrete_function\u001b[49m\u001b[38;5;241;43m.\u001b[39;49m\u001b[43m_call_flat\u001b[49m\u001b[43m(\u001b[49m\n\u001b[1;32m    144\u001b[0m \u001b[43m    \u001b[49m\u001b[43mfiltered_flat_args\u001b[49m\u001b[43m,\u001b[49m\u001b[43m \u001b[49m\u001b[43mcaptured_inputs\u001b[49m\u001b[38;5;241;43m=\u001b[39;49m\u001b[43mconcrete_function\u001b[49m\u001b[38;5;241;43m.\u001b[39;49m\u001b[43mcaptured_inputs\u001b[49m\u001b[43m)\u001b[49m\n",
      "File \u001b[0;32m~/anaconda3/envs/tensorflow_env/lib/python3.8/site-packages/tensorflow/python/eager/polymorphic_function/monomorphic_function.py:1757\u001b[0m, in \u001b[0;36mConcreteFunction._call_flat\u001b[0;34m(self, args, captured_inputs, cancellation_manager)\u001b[0m\n\u001b[1;32m   1753\u001b[0m possible_gradient_type \u001b[38;5;241m=\u001b[39m gradients_util\u001b[38;5;241m.\u001b[39mPossibleTapeGradientTypes(args)\n\u001b[1;32m   1754\u001b[0m \u001b[38;5;28;01mif\u001b[39;00m (possible_gradient_type \u001b[38;5;241m==\u001b[39m gradients_util\u001b[38;5;241m.\u001b[39mPOSSIBLE_GRADIENT_TYPES_NONE\n\u001b[1;32m   1755\u001b[0m     \u001b[38;5;129;01mand\u001b[39;00m executing_eagerly):\n\u001b[1;32m   1756\u001b[0m   \u001b[38;5;66;03m# No tape is watching; skip to running the function.\u001b[39;00m\n\u001b[0;32m-> 1757\u001b[0m   \u001b[38;5;28;01mreturn\u001b[39;00m \u001b[38;5;28mself\u001b[39m\u001b[38;5;241m.\u001b[39m_build_call_outputs(\u001b[38;5;28;43mself\u001b[39;49m\u001b[38;5;241;43m.\u001b[39;49m\u001b[43m_inference_function\u001b[49m\u001b[38;5;241;43m.\u001b[39;49m\u001b[43mcall\u001b[49m\u001b[43m(\u001b[49m\n\u001b[1;32m   1758\u001b[0m \u001b[43m      \u001b[49m\u001b[43mctx\u001b[49m\u001b[43m,\u001b[49m\u001b[43m \u001b[49m\u001b[43margs\u001b[49m\u001b[43m,\u001b[49m\u001b[43m \u001b[49m\u001b[43mcancellation_manager\u001b[49m\u001b[38;5;241;43m=\u001b[39;49m\u001b[43mcancellation_manager\u001b[49m\u001b[43m)\u001b[49m)\n\u001b[1;32m   1759\u001b[0m forward_backward \u001b[38;5;241m=\u001b[39m \u001b[38;5;28mself\u001b[39m\u001b[38;5;241m.\u001b[39m_select_forward_and_backward_functions(\n\u001b[1;32m   1760\u001b[0m     args,\n\u001b[1;32m   1761\u001b[0m     possible_gradient_type,\n\u001b[1;32m   1762\u001b[0m     executing_eagerly)\n\u001b[1;32m   1763\u001b[0m forward_function, args_with_tangents \u001b[38;5;241m=\u001b[39m forward_backward\u001b[38;5;241m.\u001b[39mforward()\n",
      "File \u001b[0;32m~/anaconda3/envs/tensorflow_env/lib/python3.8/site-packages/tensorflow/python/eager/polymorphic_function/monomorphic_function.py:381\u001b[0m, in \u001b[0;36m_EagerDefinedFunction.call\u001b[0;34m(self, ctx, args, cancellation_manager)\u001b[0m\n\u001b[1;32m    379\u001b[0m \u001b[38;5;28;01mwith\u001b[39;00m _InterpolateFunctionError(\u001b[38;5;28mself\u001b[39m):\n\u001b[1;32m    380\u001b[0m   \u001b[38;5;28;01mif\u001b[39;00m cancellation_manager \u001b[38;5;129;01mis\u001b[39;00m \u001b[38;5;28;01mNone\u001b[39;00m:\n\u001b[0;32m--> 381\u001b[0m     outputs \u001b[38;5;241m=\u001b[39m \u001b[43mexecute\u001b[49m\u001b[38;5;241;43m.\u001b[39;49m\u001b[43mexecute\u001b[49m\u001b[43m(\u001b[49m\n\u001b[1;32m    382\u001b[0m \u001b[43m        \u001b[49m\u001b[38;5;28;43mstr\u001b[39;49m\u001b[43m(\u001b[49m\u001b[38;5;28;43mself\u001b[39;49m\u001b[38;5;241;43m.\u001b[39;49m\u001b[43msignature\u001b[49m\u001b[38;5;241;43m.\u001b[39;49m\u001b[43mname\u001b[49m\u001b[43m)\u001b[49m\u001b[43m,\u001b[49m\n\u001b[1;32m    383\u001b[0m \u001b[43m        \u001b[49m\u001b[43mnum_outputs\u001b[49m\u001b[38;5;241;43m=\u001b[39;49m\u001b[38;5;28;43mself\u001b[39;49m\u001b[38;5;241;43m.\u001b[39;49m\u001b[43m_num_outputs\u001b[49m\u001b[43m,\u001b[49m\n\u001b[1;32m    384\u001b[0m \u001b[43m        \u001b[49m\u001b[43minputs\u001b[49m\u001b[38;5;241;43m=\u001b[39;49m\u001b[43margs\u001b[49m\u001b[43m,\u001b[49m\n\u001b[1;32m    385\u001b[0m \u001b[43m        \u001b[49m\u001b[43mattrs\u001b[49m\u001b[38;5;241;43m=\u001b[39;49m\u001b[43mattrs\u001b[49m\u001b[43m,\u001b[49m\n\u001b[1;32m    386\u001b[0m \u001b[43m        \u001b[49m\u001b[43mctx\u001b[49m\u001b[38;5;241;43m=\u001b[39;49m\u001b[43mctx\u001b[49m\u001b[43m)\u001b[49m\n\u001b[1;32m    387\u001b[0m   \u001b[38;5;28;01melse\u001b[39;00m:\n\u001b[1;32m    388\u001b[0m     outputs \u001b[38;5;241m=\u001b[39m execute\u001b[38;5;241m.\u001b[39mexecute_with_cancellation(\n\u001b[1;32m    389\u001b[0m         \u001b[38;5;28mstr\u001b[39m(\u001b[38;5;28mself\u001b[39m\u001b[38;5;241m.\u001b[39msignature\u001b[38;5;241m.\u001b[39mname),\n\u001b[1;32m    390\u001b[0m         num_outputs\u001b[38;5;241m=\u001b[39m\u001b[38;5;28mself\u001b[39m\u001b[38;5;241m.\u001b[39m_num_outputs,\n\u001b[0;32m   (...)\u001b[0m\n\u001b[1;32m    393\u001b[0m         ctx\u001b[38;5;241m=\u001b[39mctx,\n\u001b[1;32m    394\u001b[0m         cancellation_manager\u001b[38;5;241m=\u001b[39mcancellation_manager)\n",
      "File \u001b[0;32m~/anaconda3/envs/tensorflow_env/lib/python3.8/site-packages/tensorflow/python/eager/execute.py:52\u001b[0m, in \u001b[0;36mquick_execute\u001b[0;34m(op_name, num_outputs, inputs, attrs, ctx, name)\u001b[0m\n\u001b[1;32m     50\u001b[0m \u001b[38;5;28;01mtry\u001b[39;00m:\n\u001b[1;32m     51\u001b[0m   ctx\u001b[38;5;241m.\u001b[39mensure_initialized()\n\u001b[0;32m---> 52\u001b[0m   tensors \u001b[38;5;241m=\u001b[39m \u001b[43mpywrap_tfe\u001b[49m\u001b[38;5;241;43m.\u001b[39;49m\u001b[43mTFE_Py_Execute\u001b[49m\u001b[43m(\u001b[49m\u001b[43mctx\u001b[49m\u001b[38;5;241;43m.\u001b[39;49m\u001b[43m_handle\u001b[49m\u001b[43m,\u001b[49m\u001b[43m \u001b[49m\u001b[43mdevice_name\u001b[49m\u001b[43m,\u001b[49m\u001b[43m \u001b[49m\u001b[43mop_name\u001b[49m\u001b[43m,\u001b[49m\n\u001b[1;32m     53\u001b[0m \u001b[43m                                      \u001b[49m\u001b[43minputs\u001b[49m\u001b[43m,\u001b[49m\u001b[43m \u001b[49m\u001b[43mattrs\u001b[49m\u001b[43m,\u001b[49m\u001b[43m \u001b[49m\u001b[43mnum_outputs\u001b[49m\u001b[43m)\u001b[49m\n\u001b[1;32m     54\u001b[0m \u001b[38;5;28;01mexcept\u001b[39;00m core\u001b[38;5;241m.\u001b[39m_NotOkStatusException \u001b[38;5;28;01mas\u001b[39;00m e:\n\u001b[1;32m     55\u001b[0m   \u001b[38;5;28;01mif\u001b[39;00m name \u001b[38;5;129;01mis\u001b[39;00m \u001b[38;5;129;01mnot\u001b[39;00m \u001b[38;5;28;01mNone\u001b[39;00m:\n",
      "\u001b[0;31mKeyboardInterrupt\u001b[0m: "
     ]
    }
   ],
   "source": [
    "history = model.fit(X_train_real, y_train_real, batch_size=BATCH_SIZE, \n",
    "                    epochs=EPOCHS, validation_data=(X_test_real, y_test_real), verbose=0, \n",
    "                    callbacks=[TqdmCallback(verbose=1)], shuffle=True)"
   ]
  },
  {
   "cell_type": "code",
   "execution_count": null,
   "id": "a58bc268-bde9-40f5-b74d-ff333fa04ff3",
   "metadata": {},
   "outputs": [],
   "source": [
    "eval_data = ((X_train_real, y_train_real), (X_test_real, y_test_real))\n",
    "models.save_metrics(dataset_name=dataset_name, train_type=train_type,\n",
    "                   epochs=EPOCHS, model=model, eval_data=eval_data, \n",
    "                   history=history)"
   ]
  },
  {
   "cell_type": "code",
   "execution_count": null,
   "id": "bf8728e6-2cab-4ad7-8632-a221c15923fb",
   "metadata": {},
   "outputs": [],
   "source": [
    "history_path = Path.cwd() / f'reports/history/{dataset_name}/{MLConfig.TYPE_NAMES[train_type]}/E_{EPOCHS:03d}/'\n",
    "history_path.mkdir(parents=True, exist_ok=True)\n",
    "pd.DataFrame.from_dict(history.history).to_csv(history_path / f'{model.name}.csv',index=False)"
   ]
  },
  {
   "cell_type": "code",
   "execution_count": null,
   "id": "40690ea9-c7cf-4907-87db-c0bfd8f60b97",
   "metadata": {},
   "outputs": [],
   "source": [
    "visualise.metric_plot(show_fig=True, history=history, dataset_name=dataset_name, \n",
    "                      savefig=False, epochs=EPOCHS)"
   ]
  },
  {
   "cell_type": "code",
   "execution_count": null,
   "id": "e900c266-3ed3-4f5a-b16d-587f9231c462",
   "metadata": {},
   "outputs": [],
   "source": [
    "# model = load_model(Path.cwd() / Path(f'reports/models/{dataset_name}/{MLConfig.TYPE_NAMES[train_type]}/E_{EPOCHS:03d}/{model.name}.h5'))\n",
    "# model.name"
   ]
  },
  {
   "cell_type": "code",
   "execution_count": null,
   "id": "1f9eb4c8-06e2-43b4-bfef-9a601ef981dd",
   "metadata": {},
   "outputs": [],
   "source": [
    "model = load_model(Path.cwd() / Path(f'reports/models/Resnet50-savious.h5'))\n",
    "model.layers"
   ]
  },
  {
   "cell_type": "code",
   "execution_count": null,
   "id": "a96bb2f1-a277-4fab-aec4-06d0a5e8a66c",
   "metadata": {},
   "outputs": [],
   "source": [
    "model.layers[2].activation.__name__, model.layers[-1].activation.__name__"
   ]
  },
  {
   "cell_type": "code",
   "execution_count": null,
   "id": "9e403684-78e7-42e3-b56a-5f9aa117e015",
   "metadata": {},
   "outputs": [],
   "source": [
    "# _, acc = model.evaluate(X_train_real, y_train_real)\n",
    "# _, acc = model.evaluate(X_test_real, y_test_real)\n",
    "\n",
    "# y_pred = np.argmax(model.predict(X_train_real), axis=-1)\n",
    "# report = classification_report(np.argmax(y_train_real, axis=1), y_pred)\n",
    "# print(report)\n",
    "\n",
    "# y_pred = np.argmax(model.predict(X_test_real), axis=-1)\n",
    "# report = classification_report(np.argmax(y_test_real, axis=1), y_pred)\n",
    "# print(report)"
   ]
  },
  {
   "cell_type": "code",
   "execution_count": null,
   "id": "0555c791-b41f-458a-9f12-3392a1c2441e",
   "metadata": {},
   "outputs": [],
   "source": []
  }
 ],
 "metadata": {
  "kernelspec": {
   "display_name": "Python 3",
   "language": "python",
   "name": "python3"
  },
  "language_info": {
   "codemirror_mode": {
    "name": "ipython",
    "version": 3
   },
   "file_extension": ".py",
   "mimetype": "text/x-python",
   "name": "python",
   "nbconvert_exporter": "python",
   "pygments_lexer": "ipython3",
   "version": "3.8.16"
  }
 },
 "nbformat": 4,
 "nbformat_minor": 5
}
