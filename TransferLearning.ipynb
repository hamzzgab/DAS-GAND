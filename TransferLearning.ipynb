{
 "cells": [
  {
   "cell_type": "code",
   "execution_count": null,
   "id": "d1d60d54-c03a-43ea-92eb-588c625db1c2",
   "metadata": {},
   "outputs": [],
   "source": [
    "import numpy as np\n",
    "from pathlib import Path\n",
    "from datetime import datetime\n",
    "import matplotlib.pyplot as plt\n",
    "from IPython.display import clear_output\n",
    "\n",
    "import numpy as np\n",
    "import tensorflow as tf\n",
    "from sklearn.utils import shuffle\n",
    "from visualkeras import layered_view\n",
    "from tensorflow.keras.utils import to_categorical\n",
    "from tensorflow.keras.callbacks import ReduceLROnPlateau\n",
    "from tensorflow.keras.models import Sequential, Model, load_model\n",
    "from tensorflow.keras.datasets import mnist, cifar10, fashion_mnist\n",
    "from tensorflow.keras.layers import Dense, Flatten, UpSampling2D, Dropout, GlobalAveragePooling2D, Input\n",
    "from tensorflow.keras.preprocessing.image import img_to_array, array_to_img\n",
    "from tensorflow.keras.applications import ResNet50, MobileNet, MobileNetV2, MobileNetV3Small\n",
    "\n",
    "from gand.data import data\n",
    "from gand.config import MLConfig\n",
    "from gand.preprocessing import utils\n",
    "from gand.visualisation import visualise\n",
    "from gand.models import models, architecture\n",
    "\n",
    "import pandas as pd\n",
    "from tabulate import tabulate\n",
    "from tqdm.keras import TqdmCallback\n",
    "from sklearn.metrics import classification_report"
   ]
  },
  {
   "cell_type": "code",
   "execution_count": null,
   "id": "accbe042-99ae-4507-8dd1-765e1796f05a",
   "metadata": {},
   "outputs": [],
   "source": [
    "%load_ext autoreload\n",
    "%autoreload 2"
   ]
  },
  {
   "cell_type": "code",
   "execution_count": null,
   "id": "7e1c9d0f-ed62-4deb-8371-7f8909ad2ee2",
   "metadata": {},
   "outputs": [],
   "source": [
    "dataset = fashion_mnist\n",
    "EPOCHS = 100\n",
    "BATCH_SIZE = MLConfig.BATCH_SIZE\n",
    "\n",
    "loss = \"categorical_crossentropy\"\n",
    "opt = tf.keras.optimizers.legacy.SGD(learning_rate=0.0001, momentum=0.9)\n",
    "metrics = [\"accuracy\"]\n",
    "\n",
    "g_model_mnist = load_model(Path.cwd() / 'notebooks/models/cgan/mnist/gen_model_e-200.h5')\n",
    "g_model_fashion_mnist = load_model(Path.cwd() / 'notebooks/models/cgan/fashion_mnist/gen_model_e-536.h5')\n",
    "g_model_cifar10 = load_model(Path.cwd() / 'notebooks/models/cgan/cifar10/gen_model_e-553.h5')\n",
    "g_model = g_model_fashion_mnist\n",
    "\n",
    "train_with_gan = False\n",
    "imbalance_data = True\n",
    "\n",
    "reshape_image = True\n",
    "\n",
    "train_type = 0\n",
    "\n",
    "TRANSFER_LEARNING_MODEL = ResNet50\n",
    "TRANSFER_LEARNING_PREPROCESSOR = tf.keras.applications.resnet50.preprocess_input"
   ]
  },
  {
   "cell_type": "code",
   "execution_count": null,
   "id": "8f6c06cb-ffb7-4163-b060-0e68d09be609",
   "metadata": {},
   "outputs": [],
   "source": [
    "name = 'normal'\n",
    "if train_with_gan:\n",
    "    name = 'gans'\n",
    "elif imbalance_data:\n",
    "    name = 'imbalanced'\n",
    "\n",
    "MLConfig.TYPE_NAMES = [f'{name}-{TRANSFER_LEARNING_MODEL().name.capitalize()}']\n",
    "print(MLConfig.TYPE_NAMES)"
   ]
  },
  {
   "cell_type": "markdown",
   "id": "f77bde76-3478-470f-af95-a6904fb4d4d5",
   "metadata": {},
   "source": [
    "# Training"
   ]
  },
  {
   "cell_type": "markdown",
   "id": "0777bc27-f4a3-4288-81bf-1d93087271fe",
   "metadata": {},
   "source": [
    "### GAN Data"
   ]
  },
  {
   "cell_type": "code",
   "execution_count": null,
   "id": "6658fe87-8b4d-497c-babf-98158e047b5e",
   "metadata": {},
   "outputs": [],
   "source": [
    "X_train_gan, y_train_gan = None, None\n",
    "if train_with_gan:\n",
    "    imbalance_data = True\n",
    "    # GAN DATA\n",
    "    n = 3000\n",
    "    X_train_gan, y_train_gan = data.generate_fake_data(n=n, g_model=g_model, seed=10, verbose=1)\n",
    "    print(X_train_gan.shape, y_train_gan.shape)\n",
    "    \n",
    "    X_train_gan = (X_train_gan+1) * 127.5\n",
    "    \n",
    "    if X_train_gan.shape[-1] == 1:\n",
    "        X_train_gan = np.repeat(X_train_gan, 3, axis=-1)\n",
    "\n",
    "        if reshape_image:\n",
    "            X_train_gan = np.array(tf.image.resize(X_train_gan, [32,32]))\n",
    "            \n",
    "    X_train_gan = TRANSFER_LEARNING_PREPROCESSOR(X_train_gan)\n",
    "    y_train_gan = to_categorical(y_train_gan, num_classes=10)\n",
    "    \n",
    "    print(X_train_gan.min(), X_train_gan.max(), X_train_gan.shape, y_train_gan.shape)"
   ]
  },
  {
   "cell_type": "markdown",
   "id": "c31a0747-c056-4505-8b1f-2614c16f486b",
   "metadata": {},
   "source": [
    "### Normal Data"
   ]
  },
  {
   "cell_type": "code",
   "execution_count": null,
   "id": "a19c7192-922e-4b4a-8aa2-74a98dcd3806",
   "metadata": {},
   "outputs": [],
   "source": [
    "((X_train_real, y_train_real), (X_test_real, y_test_real)), dataset_name = data.load_dataset(dataset, return_name=True)\n",
    "print(X_train_real.shape, y_train_real.shape, X_test_real.shape, y_test_real.shape, dataset_name)\n",
    "\n",
    "if len(X_train_real.shape) == 3:\n",
    "    X_train_real = np.expand_dims(X_train_real, axis=-1)\n",
    "    X_test_real = np.expand_dims(X_test_real, axis=-1)\n",
    "    \n",
    "    X_train_real = np.repeat(X_train_real, 3, axis=-1)\n",
    "    X_test_real = np.repeat(X_test_real, 3, axis=-1)\n",
    "\n",
    "    if reshape_image:\n",
    "        X_train_real = np.array(tf.image.resize(X_train_real, [32,32]))\n",
    "        X_test_real = np.array(tf.image.resize(X_test_real, [32,32]))\n",
    "\n",
    "X_train_real = TRANSFER_LEARNING_PREPROCESSOR(X_train_real)\n",
    "X_test_real = TRANSFER_LEARNING_PREPROCESSOR(X_test_real)\n",
    "\n",
    "print(X_train_real.min(), X_train_real.max(), X_test_real.min(), X_test_real.max())\n",
    "\n",
    "y_train_real = to_categorical(y_train_real, num_classes=10)\n",
    "y_test_real = to_categorical(y_test_real, num_classes=10)\n",
    "print(X_train_real.shape, y_train_real.shape, X_test_real.shape, y_test_real.shape, dataset_name)\n",
    "\n",
    "if imbalance_data:\n",
    "    # REMOVING 75%\n",
    "    keep_per_class = 2000\n",
    "    X_train_removed, y_train_removed = [], []\n",
    "    for i in range(y_train_real.shape[-1]):\n",
    "        class_idx = np.where(np.argmax(y_train_real, axis=-1) == i)[0]\n",
    "        selected_idx = np.random.choice(class_idx, keep_per_class)\n",
    "        X_train_removed.append(X_train_real[selected_idx])\n",
    "        y_train_removed.append(y_train_real[selected_idx])\n",
    "    \n",
    "    X_train_real, y_train_real = np.concatenate(X_train_removed, axis=0), np.concatenate(y_train_removed, axis=0)\n",
    "\n",
    "print(X_train_real.shape, y_train_real.shape, X_test_real.shape, y_test_real.shape, dataset_name)"
   ]
  },
  {
   "cell_type": "markdown",
   "id": "69a56167-93a8-45ec-82ac-f49785e1b83d",
   "metadata": {},
   "source": [
    "### Appending GAN Data"
   ]
  },
  {
   "cell_type": "code",
   "execution_count": null,
   "id": "08d2f4c4-8920-43be-8490-4d5db37c0657",
   "metadata": {},
   "outputs": [],
   "source": [
    "if train_with_gan:\n",
    "    X_train_real = np.concatenate((X_train_real, X_train_gan), axis=0)\n",
    "    y_train_real = np.concatenate((y_train_real, y_train_gan), axis=0)\n",
    "    print(X_train_real.shape, y_train_real.shape, X_test_real.shape, y_test_real.shape, dataset_name)"
   ]
  },
  {
   "cell_type": "markdown",
   "id": "ae8ac567-20b6-482b-88ce-75e6d26fc842",
   "metadata": {},
   "source": [
    "### Shuffle It"
   ]
  },
  {
   "cell_type": "code",
   "execution_count": null,
   "id": "dffd4b3a-f9ab-4154-960b-8842772f83ee",
   "metadata": {},
   "outputs": [],
   "source": [
    "X_train_real, y_train_real = shuffle(X_train_real, y_train_real)\n",
    "X_test_real, y_test_real = shuffle(X_test_real, y_test_real)\n",
    "print(X_train_real.shape, y_train_real.shape, X_test_real.shape, y_test_real.shape, dataset_name)"
   ]
  },
  {
   "cell_type": "markdown",
   "id": "910ca9ff-5251-4887-b07f-f1d950f9404c",
   "metadata": {},
   "source": [
    "### Make it Faster"
   ]
  },
  {
   "cell_type": "code",
   "execution_count": null,
   "id": "5e3d31b3-3263-4055-8d6a-8878511d9007",
   "metadata": {},
   "outputs": [],
   "source": [
    "# train_data = tf.data.Dataset.from_tensor_slices((X_train_real, y_train_real))\n",
    "# test_data = tf.data.Dataset.from_tensor_slices((X_test_real, y_test_real))\n",
    "\n",
    "# train_data = train_data.batch(BATCH_SIZE).prefetch(tf.data.AUTOTUNE)\n",
    "# test_data = test_data.batch(BATCH_SIZE).prefetch(tf.data.AUTOTUNE)\n",
    "\n",
    "# train_data, test_data, dataset_name"
   ]
  },
  {
   "cell_type": "code",
   "execution_count": null,
   "id": "98827401-1cf6-4673-80db-b9f9eea16425",
   "metadata": {},
   "outputs": [],
   "source": [
    "MLConfig.TYPE_NAMES[train_type]"
   ]
  },
  {
   "cell_type": "code",
   "execution_count": null,
   "id": "5aa4f8b3-1935-4310-bd8c-a562d7af3459",
   "metadata": {},
   "outputs": [],
   "source": [
    "X_train_real.shape[1:]"
   ]
  },
  {
   "cell_type": "code",
   "execution_count": null,
   "id": "73f11a5d-75f9-40cf-9d35-1a990eee7e83",
   "metadata": {},
   "outputs": [],
   "source": [
    "base_model = TRANSFER_LEARNING_MODEL(weights='imagenet', include_top=False, input_shape=(32, 32, 3))\n",
    "base_model.trainable=False\n",
    "# upsamp = 7\n",
    "# if X_train_real.shape[1] == 28:\n",
    "#     upsamp = 8\n",
    "\n",
    "input = Input(shape=X_train_real.shape[1:])\n",
    "# layer = UpSampling2D(size=(upsamp, upsamp))(input)\n",
    "assert input.shape == (None, 32, 32, 3)\n",
    "\n",
    "layer = base_model(input)\n",
    "layer = GlobalAveragePooling2D( )(layer)\n",
    "layer = Flatten()(layer)\n",
    "# layer = Dense(512, activation='relu')(layer)\n",
    "# layer = Dropout(0.25)(layer)\n",
    "layer = Dense(512)(layer)\n",
    "layer = Dropout(0.25)(layer)\n",
    "output = Dense(10, activation='softmax')(layer)\n",
    "\n",
    "model = Model(input, output, name=MLConfig.TYPE_NAMES[train_type])"
   ]
  },
  {
   "cell_type": "code",
   "execution_count": null,
   "id": "fdd3cd7d-6f88-408c-8f5a-fd7de4a7fa38",
   "metadata": {},
   "outputs": [],
   "source": [
    "base_model = TRANSFER_LEARNING_MODEL(weights='imagenet', include_top=False, \n",
    "                                     input_shape=(32, 32, 3))\n",
    "base_model.trainable=False\n",
    "\n",
    "model = Sequential([\n",
    "    base_model,\n",
    "    GlobalAveragePooling2D(),\n",
    "    Flatten(),\n",
    "    # Dense(1024, activation='relu'),\n",
    "    # Dropout(0.25),\n",
    "    Dense(512, activation='relu'),\n",
    "    Dropout(0.5),\n",
    "    Dense(10, activation='softmax')\n",
    "], name=MLConfig.TYPE_NAMES[train_type])"
   ]
  },
  {
   "cell_type": "code",
   "execution_count": null,
   "id": "1a5eb9fe-b315-4685-9c0c-366e52f64933",
   "metadata": {},
   "outputs": [],
   "source": [
    "opt = tf.keras.optimizers.legacy.SGD(learning_rate=0.001, momentum=0.9)\n",
    "model.compile(optimizer=opt, loss=loss, metrics=metrics)\n",
    "model.summary()"
   ]
  },
  {
   "cell_type": "code",
   "execution_count": null,
   "id": "2db4ca26-ac23-45a1-bff8-1ef33fe0e721",
   "metadata": {},
   "outputs": [],
   "source": [
    "history = model.fit(X_train_real, y_train_real, batch_size=BATCH_SIZE, \n",
    "                    epochs=EPOCHS, validation_data=(X_test_real, y_test_real), verbose=0, \n",
    "                    callbacks=[TqdmCallback(verbose=1)], shuffle=True)"
   ]
  },
  {
   "cell_type": "code",
   "execution_count": null,
   "id": "a58bc268-bde9-40f5-b74d-ff333fa04ff3",
   "metadata": {},
   "outputs": [],
   "source": [
    "eval_data = ((X_train_real, y_train_real), (X_test_real, y_test_real))\n",
    "models.save_metrics(dataset_name=dataset_name, train_type=train_type,\n",
    "                   epochs=EPOCHS, model=model, eval_data=eval_data, \n",
    "                   history=history)"
   ]
  },
  {
   "cell_type": "code",
   "execution_count": null,
   "id": "bf8728e6-2cab-4ad7-8632-a221c15923fb",
   "metadata": {},
   "outputs": [],
   "source": [
    "history_path = Path.cwd() / f'reports/history/{dataset_name}/{MLConfig.TYPE_NAMES[train_type]}/E_{EPOCHS:03d}/'\n",
    "history_path.mkdir(parents=True, exist_ok=True)\n",
    "pd.DataFrame.from_dict(history.history).to_csv(history_path / f'{model.name}.csv',index=False)"
   ]
  },
  {
   "cell_type": "code",
   "execution_count": null,
   "id": "40690ea9-c7cf-4907-87db-c0bfd8f60b97",
   "metadata": {},
   "outputs": [],
   "source": [
    "visualise.metric_plot(show_fig=True, history=history, dataset_name=dataset_name, \n",
    "                      savefig=False, epochs=EPOCHS)"
   ]
  },
  {
   "cell_type": "code",
   "execution_count": null,
   "id": "e900c266-3ed3-4f5a-b16d-587f9231c462",
   "metadata": {},
   "outputs": [],
   "source": [
    "# model = load_model(Path.cwd() / Path(f'reports/models/{dataset_name}/{MLConfig.TYPE_NAMES[train_type]}/E_{EPOCHS:03d}/{model.name}.h5'))\n",
    "# model.name"
   ]
  },
  {
   "cell_type": "code",
   "execution_count": null,
   "id": "1f9eb4c8-06e2-43b4-bfef-9a601ef981dd",
   "metadata": {},
   "outputs": [],
   "source": [
    "model = load_model(Path.cwd() / Path(f'reports/models/Resnet50-savious.h5'))\n",
    "model.layers"
   ]
  },
  {
   "cell_type": "code",
   "execution_count": null,
   "id": "a96bb2f1-a277-4fab-aec4-06d0a5e8a66c",
   "metadata": {},
   "outputs": [],
   "source": [
    "model.layers[2].activation.__name__, model.layers[-1].activation.__name__"
   ]
  },
  {
   "cell_type": "code",
   "execution_count": null,
   "id": "9e403684-78e7-42e3-b56a-5f9aa117e015",
   "metadata": {},
   "outputs": [],
   "source": [
    "# _, acc = model.evaluate(X_train_real, y_train_real)\n",
    "# _, acc = model.evaluate(X_test_real, y_test_real)\n",
    "\n",
    "# y_pred = np.argmax(model.predict(X_train_real), axis=-1)\n",
    "# report = classification_report(np.argmax(y_train_real, axis=1), y_pred)\n",
    "# print(report)\n",
    "\n",
    "# y_pred = np.argmax(model.predict(X_test_real), axis=-1)\n",
    "# report = classification_report(np.argmax(y_test_real, axis=1), y_pred)\n",
    "# print(report)"
   ]
  },
  {
   "cell_type": "code",
   "execution_count": null,
   "id": "0555c791-b41f-458a-9f12-3392a1c2441e",
   "metadata": {},
   "outputs": [],
   "source": []
  }
 ],
 "metadata": {
  "kernelspec": {
   "display_name": "Python 3",
   "language": "python",
   "name": "python3"
  },
  "language_info": {
   "codemirror_mode": {
    "name": "ipython",
    "version": 3
   },
   "file_extension": ".py",
   "mimetype": "text/x-python",
   "name": "python",
   "nbconvert_exporter": "python",
   "pygments_lexer": "ipython3",
   "version": "3.8.16"
  }
 },
 "nbformat": 4,
 "nbformat_minor": 5
}
