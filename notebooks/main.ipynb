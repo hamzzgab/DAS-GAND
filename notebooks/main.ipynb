{
 "cells": [
  {
   "cell_type": "code",
   "execution_count": 1,
   "id": "a2847b8f-8401-425d-8fac-92cf2deccb81",
   "metadata": {
    "is_executing": true
   },
   "outputs": [],
   "source": [
    "# SYSTEM\n",
    "from tqdm.auto import tqdm\n",
    "\n",
    "# MATH\n",
    "import math\n",
    "import numpy as np\n",
    "from numpy.random import randint\n",
    "\n",
    "# DATA\n",
    "import pandas as pd\n",
    "from tabulate import tabulate\n",
    "\n",
    "# PLOTTING\n",
    "import visualkeras  \n",
    "import seaborn as sns\n",
    "import matplotlib.pyplot as plt\n",
    "\n",
    "# MACHINE LEARNING\n",
    "from keras.optimizers import Adam\n",
    "from keras.utils import to_categorical\n",
    "from keras.models import Sequential, load_model\n",
    "from keras.preprocessing.image import ImageDataGenerator\n",
    "from keras.callbacks import LearningRateScheduler, EarlyStopping\n",
    "from keras.datasets import mnist, fashion_mnist, cifar10, cifar100\n",
    "from keras.layers import Dense, Dropout, Flatten, Conv2D, MaxPooling2D, BatchNormalization\n",
    "\n",
    "# EVALUATION\n",
    "from sklearn.metrics import confusion_matrix, classification_report, roc_curve, auc"
   ]
  },
  {
   "cell_type": "code",
   "execution_count": 2,
   "id": "a349ff59-b696-4607-b0bc-5d5ad4460155",
   "metadata": {
    "is_executing": true
   },
   "outputs": [],
   "source": [
    "def build_model(input_shape=(28, 28, 1), learning_rate=0.001, classes=10):\n",
    "    model = Sequential()\n",
    "\n",
    "    model.add(Conv2D(filters=32, kernel_size=(3, 3), activation='relu',\n",
    "                    strides=1, padding='same', data_format='channels_last',\n",
    "                    input_shape=input_shape))\n",
    "    model.add(BatchNormalization())\n",
    "    model.add(Conv2D(filters=32, kernel_size=(3, 3), activation='relu',\n",
    "                    strides=1, padding='same', data_format='channels_last'))\n",
    "    model.add(BatchNormalization())\n",
    "    model.add(MaxPooling2D(pool_size=(2, 2), strides=2, padding='valid'))\n",
    "    model.add(Dropout(0.25))\n",
    "\n",
    "    model.add(Conv2D(filters=64, kernel_size=(3, 3), activation='relu',\n",
    "                    strides=1, padding='same', data_format='channels_last'))\n",
    "    model.add(BatchNormalization())\n",
    "    model.add(Conv2D(filters=64, kernel_size=(3, 3), activation='relu',\n",
    "                    strides=1, padding='same', data_format='channels_last'))\n",
    "    model.add(BatchNormalization())\n",
    "    model.add(MaxPooling2D(pool_size=(2, 2), strides=2, padding='valid'))\n",
    "    model.add(Dropout(0.25))\n",
    "\n",
    "    model.add(Flatten())\n",
    "    model.add(Dense(512, activation='relu'))\n",
    "    model.add(BatchNormalization())\n",
    "    model.add(Dropout(0.25))\n",
    "\n",
    "    model.add(Dense(1024, activation='relu'))\n",
    "    model.add(BatchNormalization())\n",
    "    model.add(Dropout(0.25))\n",
    "\n",
    "    model.add(Dense(classes, activation='softmax'))\n",
    "\n",
    "    # Optimizer\n",
    "    optimizer = Adam(learning_rate=learning_rate, beta_1=0.9, beta_2=0.999)\n",
    "\n",
    "    # Compile model\n",
    "    model.compile(optimizer=optimizer, loss='categorical_crossentropy', metrics=['accuracy'])\n",
    "\n",
    "    return model"
   ]
  },
  {
   "cell_type": "code",
   "execution_count": 3,
   "id": "5da282c2-adad-4fd2-a291-02f3ad46f94c",
   "metadata": {},
   "outputs": [],
   "source": [
    "MNIST_CLASS_NAMES = ['zero', 'one', 'two', 'three', 'four',\n",
    "                    'five', 'six', 'seven', 'eight', 'nine']\n",
    "\n",
    "FASHIONMNIST_CLASS_NAMES = ['T-shirt/top', 'Trouser', 'Pullover', 'Dress', 'Coat',\n",
    "                            'Sandal', 'Shirt', 'Sneaker', 'Bag', 'Ankle boot']\n",
    "\n",
    "CIFAR10_CLASS_NAMES = ['airplane', 'automobile', 'bird', 'cat', 'deer', \n",
    "                      'dog', 'frog', 'horse', 'ship', 'truck']\n",
    "\n",
    "CIFAR100_CLASS_NAMES = ['apple', 'aquarium_fish', 'baby', 'bear', 'beaver', 'bed', 'bee', 'beetle',\n",
    "                       'bicycle', 'bottle', 'bowl', 'boy', 'bridge', 'bus', 'butterfly', 'camel',\n",
    "                       'can', 'castle', 'caterpillar', 'cattle', 'chair', 'chimpanzee', 'clock',\n",
    "                       'cloud', 'cockroach', 'couch', 'crab', 'crocodile', 'cup', 'dinosaur',\n",
    "                       'dolphin', 'elephant', 'flatfish', 'forest', 'fox', 'girl', 'hamster',\n",
    "                       'house', 'kangaroo', 'keyboard', 'lamp', 'lawn_mower', 'leopard', 'lion',\n",
    "                       'lizard', 'lobster', 'man', 'maple_tree', 'motorcycle', 'mountain', 'mouse',\n",
    "                       'mushroom', 'oak_tree', 'orange', 'orchid', 'otter', 'palm_tree', 'pear',\n",
    "                       'pickup_truck', 'pine_tree', 'plain', 'plate', 'poppy', 'porcupine',\n",
    "                       'possum', 'rabbit', 'raccoon', 'ray', 'road', 'rocket', 'rose', 'sea',\n",
    "                       'seal', 'shark', 'shrew', 'skunk', 'skyscraper', 'snail', 'snake', 'spider',\n",
    "                       'squirrel', 'streetcar', 'sunflower', 'sweet_pepper', 'table', 'tank',\n",
    "                       'telephone', 'television', 'tiger', 'tractor', 'train', 'trout', 'tulip',\n",
    "                       'turtle', 'wardrobe', 'whale', 'willow_tree', 'wolf', 'woman', 'worm']\n"
   ]
  },
  {
   "cell_type": "code",
   "execution_count": 4,
   "id": "f2580f62-8da7-47ef-b4a2-7b913f87f56d",
   "metadata": {},
   "outputs": [],
   "source": [
    "class Main:\n",
    "    def __init__(self, dataset, model=None, name=None, class_names=None):\n",
    "        # DATA\n",
    "        (self.X_train, self.y_train), (self.X_test, self.y_test) = dataset.load_data()\n",
    "        \n",
    "        # MODEL ARCHITECTURE\n",
    "        self.model = model\n",
    "\n",
    "        # MODEL CONFIGURATION\n",
    "        self.name = name\n",
    "        self.class_names = class_names\n",
    "\n",
    "        if self.class_names is None:\n",
    "            self.class_names = np.unique(self.y_train)\n",
    "\n",
    "\n",
    "        self.batch_size = None\n",
    "        self.epochs = None\n",
    "        self.history = None        "
   ]
  },
  {
   "cell_type": "code",
   "execution_count": 5,
   "id": "0b4c0a53-4bf7-4f35-98b1-ec43254e7744",
   "metadata": {},
   "outputs": [],
   "source": [
    "class DataVisualisation(Main):\n",
    "    def __init__(self, dataset, model=None, name=None, class_names=None):\n",
    "        super().__init__(dataset=dataset, \n",
    "                         model=model, \n",
    "                         name=name, \n",
    "                         class_names=class_names)\n",
    "        \n",
    "    def plot(self, figsize=(7, 7), n=3):\n",
    "        plt.figure(figsize=figsize)\n",
    "        for i in range(n*n):\n",
    "            plt.subplot(n, n, i + 1)\n",
    "            plt.xticks([])\n",
    "            plt.yticks([])\n",
    "            plt.grid(False)\n",
    "            plt.imshow(self.X_train[i], cmap=plt.cm.binary)\n",
    "            plt.title(self.class_names[self.y_train[i]])\n",
    "        plt.show()\n",
    "\n",
    "    def get_label_df(self):\n",
    "        train_df = pd.DataFrame({'training': self.y_train.squeeze()})\n",
    "        test_df  = pd.DataFrame({'testing': self.y_test.squeeze()})\n",
    "        return train_df, test_df\n",
    "\n",
    "    def get_label_counts(self):\n",
    "        train_df, test_df = self.get_label_df()\n",
    "        train_counts = train_df['training'].value_counts().sort_index()\n",
    "        test_counts  = test_df['testing'].value_counts().sort_index()\n",
    "        return train_counts, test_counts\n",
    "\n",
    "    def plot_label_count(self, figsize=(6, 4)):\n",
    "        train_counts, test_counts = self.get_label_counts()\n",
    "\n",
    "        # Create the figure and axes\n",
    "        fig, ax = plt.subplots(figsize=figsize)\n",
    "\n",
    "        # Set the x-axis and y-axis labels\n",
    "        ax.set_xlabel('Label')\n",
    "        ax.set_ylabel('Count')\n",
    "\n",
    "        # Set the title\n",
    "        ax.set_title(f'Distribution of Labels in {self.name} Dataset')\n",
    "\n",
    "        # Plot the bar graph for training and testing datasets\n",
    "        train_counts.plot(kind='bar', ax=ax, color='blue', alpha=0.7, label='Training')\n",
    "        test_counts.plot(kind='bar', ax=ax, color='green', alpha=0.7, label='Testing')\n",
    "\n",
    "        # Add text inside each bar\n",
    "        for i, (train_val, test_val) in enumerate(zip(train_counts, test_counts)):\n",
    "            ax.text(i, train_val/2, train_val, ha='center', va='center')\n",
    "            ax.text(i, train_val + test_val/2, test_val, ha='center', va='center')\n",
    "\n",
    "        # Add a legend\n",
    "        ax.legend(loc='best')\n",
    "        ax.set_xticklabels(self.class_names, rotation='vertical')\n",
    "\n",
    "        # Display the graph\n",
    "        plt.show()\n",
    "\n",
    "\n",
    "    def model_visualisation(self, to_file=None, legend=True, draw_volume=True,\n",
    "                        spacing=30, type_ignore=None):\n",
    "    \n",
    "        if to_file is None:\n",
    "            to_file = self.name + '.png'\n",
    "\n",
    "        visualkeras.layered_view(self.model, to_file=to_file, legend=legend,\n",
    "                                 draw_volume=draw_volume, spacing=spacing,\n",
    "                                 type_ignore=type_ignore)\n",
    "    \n",
    "    def __str__(self):\n",
    "        data = [['Training', self.X_train.shape, self.y_train.shape],\n",
    "                ['Testing', self.X_test.shape, self.y_test.shape]]\n",
    "        col_names = [\"Images\", \"Labels\"]\n",
    "        return tabulate(data, headers=col_names, tablefmt=\"grid\")"
   ]
  },
  {
   "cell_type": "code",
   "execution_count": 6,
   "id": "8649fb08-e30f-42e8-ac80-2db93537ace5",
   "metadata": {},
   "outputs": [],
   "source": [
    "class DataPreprocessor(Main):\n",
    "    def __init__(self, dataset, model=None, name=None, class_names=None):\n",
    "        super().__init__(dataset=dataset, \n",
    "                         model=model, \n",
    "                         name=name, \n",
    "                         class_names=class_names)\n",
    "\n",
    "    @staticmethod\n",
    "    def get_num_channels(self, X_train):\n",
    "        CHANNELS = 1\n",
    "        CHANNELS = X_train.shape[3] if len(X_train.shape) == 4 else CHANNELS\n",
    "        return CHANNELS\n",
    "            \n",
    "    def reshape_data(self, X_train, X_test):\n",
    "        CHANNELS = self.get_num_channels(self, X_train)\n",
    "        X_train = X_train.reshape((-1, X_train.shape[1], X_train.shape[2], CHANNELS))\n",
    "        X_test = X_test.reshape((-1, X_test.shape[1], X_test.shape[2], CHANNELS))\n",
    "        return X_train, X_test    \n",
    "\n",
    "    def normalise_data(self, X_train, X_test):\n",
    "        X_train = X_train.astype('float32') / 255.0\n",
    "        X_test = X_test.astype('float32') / 255.0\n",
    "        return X_train, X_test\n",
    "\n",
    "    def encode_target_data(self, y_train, y_test):\n",
    "        NUM_CLASSES = len(np.unique(y_train))\n",
    "        y_train = to_categorical(y_train, num_classes=NUM_CLASSES)\n",
    "        y_test = to_categorical(y_test, num_classes=NUM_CLASSES)\n",
    "        return y_train, y_test\n",
    "\n",
    "    def preprocess_data(self ,X_train, y_train, X_test, y_test):\n",
    "        # 1. RESHAPE THE DATA for BATCHES (BATCH_SIZE, HEIGHT, WIDTH, CHANNELS)\n",
    "        X_train, X_test = self.reshape_data(X_train, X_test)\n",
    "\n",
    "        # 2. NORMALIZE THE DATA TO BE FLOAT AND DIVIDE IT BY 255\n",
    "        X_train, X_test = self.normalise_data(X_train, X_test)\n",
    "\n",
    "        # 2. ENCODE THE TARGET DATA CATEGORICALLY\n",
    "        y_train, y_test = self.encode_target_data(y_train, y_test)\n",
    "\n",
    "        return (X_train, y_train), (X_test, y_test)\n",
    "\n",
    "    def preprocess_image(self, image):\n",
    "        image = np.expand_dims(image, axis=0)\n",
    "        image = image.astype('float32')\n",
    "        image /= 255.0\n",
    "        return image    "
   ]
  },
  {
   "cell_type": "code",
   "execution_count": 7,
   "id": "4817a529-7e19-4c8d-bcfb-6e153b194827",
   "metadata": {},
   "outputs": [],
   "source": [
    "class DataEvaluator(DataPreprocessor):\n",
    "    def __init__(self, dataset, model=None, name=None, class_names=None):\n",
    "        super().__init__(dataset=dataset, \n",
    "                         model=model, \n",
    "                         name=name, \n",
    "                         class_names=class_names)\n",
    "    \n",
    "    def plot_predictions(self, n=3):\n",
    "        # PREPROCESS DATA\n",
    "        (X_train, y_train), (X_test, y_test) = self.preprocess_data(self.X_train, \n",
    "                                                                    self.y_train, \n",
    "                                                                    self.X_test, \n",
    "                                                                    self.y_test)\n",
    "\n",
    "        # CREATE A 5X5 GRID OF SUBPLOTS\n",
    "        fig, axes = plt.subplots(n, n, figsize=(n * 2 + 2, n * 2 + 2))\n",
    "\n",
    "        # ADJUST THE SPACING BETWEEN SUBPLOTS\n",
    "        fig.subplots_adjust(hspace=0.4, wspace=0.4)\n",
    "\n",
    "        # GATHERING RANDOM DATA POINTS\n",
    "        data = randint(0, len(X_test), n * n)\n",
    "\n",
    "        # ITERATE OVER EACH SUBPLOT AND CUSTOMIZE\n",
    "        for i, ax in enumerate(axes.flat):\n",
    "            img = X_test[data[i]]\n",
    "            img = np.expand_dims(img, axis=0)\n",
    "            \n",
    "            ax.imshow(img.squeeze(), cmap='gray')\n",
    "\n",
    "            predict_value = self.model.predict(img, verbose=0)\n",
    "            digit = np.argmax(predict_value)\n",
    "            actual = np.argmax(y_test[data[i]])\n",
    "\n",
    "            ax.set(xticks=[], yticks=[])\n",
    "\n",
    "            title_color = 'green'\n",
    "\n",
    "            if digit != actual:\n",
    "                title_color = 'red'\n",
    "\n",
    "            ax.set_title(f'Pred: {digit} | Actual: {actual}', color=title_color)\n",
    "\n",
    "            for j in ['top', 'right', 'bottom', 'left']:\n",
    "                ax.spines[j].set_visible(False)\n",
    "\n",
    "        plt.show()\n",
    "\n",
    "    def plot_confusion_matrix(self):\n",
    "        # 1. PREPROCESS DATA\n",
    "        (X_train, y_train), (X_test, y_test) = self.preprocess_data(self.X_train, \n",
    "                                                                    self.y_train, \n",
    "                                                                    self.X_test, \n",
    "                                                                    self.y_test)\n",
    "\n",
    "        y_test = np.argmax(y_test, axis=1)\n",
    "\n",
    "        y_prediction = self.model.predict(X_test, verbose=0)\n",
    "        y_prediction = np.argmax(y_prediction, axis=1)\n",
    "\n",
    "        result = confusion_matrix(y_test, y_prediction)\n",
    "\n",
    "        plt.figure(figsize=(8, 6))\n",
    "        ax = plt.gca()\n",
    "\n",
    "        # Create a heatmap of the confusion matrix\n",
    "        sns.heatmap(result, annot=True, fmt='d', cmap='Blues', cbar=False, ax=ax)\n",
    "\n",
    "        # Set labels, title, and ticks\n",
    "        ax.set_xlabel('Predicted')\n",
    "        ax.set_ylabel('Actual')\n",
    "        ax.set_title(f'Confusion Matrix for {self.name}')\n",
    "        ax.xaxis.set_ticklabels(self.class_names, rotation=90)\n",
    "        ax.yaxis.set_ticklabels(self.class_names, rotation=0)\n",
    "        plt.show()\n",
    "\n",
    "    def plot_metric(self, figsize=(10, 6), metric='accuracy'):\n",
    "        plt.figure(figsize=figsize)\n",
    "\n",
    "        target = ['Training', 'Validation']\n",
    "        color = ['blue', 'orange']\n",
    "        linestyle = ['-', '--']\n",
    "        val = ''\n",
    "\n",
    "        X = [x+1 for x in range(len(self.history.history[metric]))]\n",
    "        \n",
    "        plt.grid(True)\n",
    "        sns.set(style=\"darkgrid\")\n",
    "        for i in range(2):\n",
    "            y = self.history.history[val + metric]\n",
    "            sns.lineplot(x=X, y=y, marker='o', markersize=6, color=color[i],\n",
    "                         linewidth=2.5, linestyle=linestyle[i], label=target[i])\n",
    "\n",
    "            value = max(y)\n",
    "            if 'loss' in metric:\n",
    "                value = min(y)\n",
    "\n",
    "            max_index = y.index(value)\n",
    "            plt.text(X[max_index], value, f\"{value:.2f}\", \n",
    "                     ha='center', va='bottom')\n",
    "            val += 'val_'\n",
    "\n",
    "        # Set plot labels and title\n",
    "        plt.xlabel(\"Epochs\")\n",
    "        plt.ylabel(metric.title())\n",
    "        plt.title(metric.title() + ' Plot')\n",
    "\n",
    "        plt.xticks(X, [str(x) for x in X])\n",
    "\n",
    "        # Show the plot\n",
    "        plt.show()"
   ]
  },
  {
   "cell_type": "code",
   "execution_count": 8,
   "id": "8eae229e-efe0-4f88-beeb-68784e88c2ca",
   "metadata": {},
   "outputs": [],
   "source": [
    "class Model(DataVisualisation, DataEvaluator):\n",
    "    def __init__(self, dataset, model=None, name=None, class_names=None):\n",
    "        super().__init__(dataset=dataset, \n",
    "                         model=model, \n",
    "                         name=name, \n",
    "                         class_names=class_names)\n",
    "        \n",
    "    @staticmethod\n",
    "    def step_decay(epoch, lr):\n",
    "        if epoch % 10 == 0:\n",
    "          lr *= 0.1\n",
    "          return lr\n",
    "        return lr\n",
    "\n",
    "    @staticmethod\n",
    "    def cosine_annealing(epoch, initial_lr, total_epochs):\n",
    "      lr = 0.5 * initial_lr * (1 + math.cos(math.pi * epoch / total_epochs))\n",
    "      return lr      \n",
    "        \n",
    "    def train_model(self, input_shape=(28, 28, 1), \n",
    "                    learning_rate=0.001,\n",
    "                    batch_size=64, \n",
    "                    epochs=20):\n",
    "        \n",
    "        # PREPROCESS DATA\n",
    "        (X_train, y_train), (X_test, y_test) = self.preprocess_data(self.X_train, \n",
    "                                                                    self.y_train, \n",
    "                                                                    self.X_test, \n",
    "                                                                    self.y_test)\n",
    "       \n",
    "        self.batch_size = batch_size\n",
    "        self.epochs = epochs\n",
    "\n",
    "        reduce_lr = LearningRateScheduler(lambda epoch: self.cosine_annealing(epoch, \n",
    "                                                                              learning_rate, \n",
    "                                                                              epochs))\n",
    "        early_stopping = EarlyStopping(monitor='val_loss', patience=5, verbose=1)\n",
    "\n",
    "        self.history = self.model.fit(X_train, y_train, batch_size,\n",
    "                                      epochs=self.epochs,\n",
    "                                      validation_data=(X_test, y_test),\n",
    "                                      verbose=1,\n",
    "                                      steps_per_epoch=len(self.X_train) / batch_size,\n",
    "                                      callbacks=[reduce_lr, early_stopping])    \n",
    "\n",
    "    def save_model(self, name=None):\n",
    "        if name is None:\n",
    "            name = self.name + '_e' + str(self.epochs) + '_bS' + str(self.batch_size) + '.h5'\n",
    "        self.model.save(name)\n",
    "\n",
    "    def predict(self, image):\n",
    "        image = self.preprocess_image(image)\n",
    "        y_prediction = self.model.predict(image, verbose=0)\n",
    "        y_prediction = np.argmax(y_prediction, axis=1)  \n",
    "        return y_prediction.squeeze()\n",
    "\n",
    "    def __str__(self):\n",
    "        return super().__str__()"
   ]
  },
  {
   "cell_type": "markdown",
   "id": "7932e084-764a-4d8b-a925-14689c04f39d",
   "metadata": {},
   "source": [
    "# Training"
   ]
  },
  {
   "cell_type": "code",
   "execution_count": 10,
   "id": "b390b6ba-b03d-4231-addf-2a3bca128989",
   "metadata": {},
   "outputs": [
    {
     "name": "stdout",
     "output_type": "stream",
     "text": [
      "+----------+-----------------+----------+\n",
      "|          | Images          | Labels   |\n",
      "+==========+=================+==========+\n",
      "| Training | (60000, 28, 28) | (60000,) |\n",
      "+----------+-----------------+----------+\n",
      "| Testing  | (10000, 28, 28) | (10000,) |\n",
      "+----------+-----------------+----------+\n"
     ]
    }
   ],
   "source": [
    "model = build_model()\n",
    "MNIST = Model(dataset=mnist, model=model, \n",
    "              name='mnist', class_names=MNIST_CLASS_NAMES)\n",
    "print(MNIST)"
   ]
  },
  {
   "cell_type": "code",
   "execution_count": 11,
   "id": "f7912808-dd46-4b53-82f6-34dddc87cb12",
   "metadata": {},
   "outputs": [
    {
     "data": {
      "image/png": "[encoded data removed]",
      "text/plain": [
       "<Figure size 432x288 with 1 Axes>"
      ]
     },
     "metadata": {
      "needs_background": "light"
     },
     "output_type": "display_data"
    }
   ],
   "source": [
    "MNIST.plot_label_count()"
   ]
  },
  {
   "cell_type": "code",
   "execution_count": 12,
   "id": "c6bd0b57-99e4-4a8d-b86e-6335c780110c",
   "metadata": {},
   "outputs": [
    {
     "data": {
      "image/png": "[encoded data removed]",
      "text/plain": [
       "<Figure size 504x504 with 9 Axes>"
      ]
     },
     "metadata": {},
     "output_type": "display_data"
    }
   ],
   "source": [
    "MNIST.plot()"
   ]
  },
  {
   "cell_type": "code",
   "execution_count": 13,
   "id": "8b3c39f9-c69b-4f5a-9124-3912b246feef",
   "metadata": {},
   "outputs": [
    {
     "name": "stdout",
     "output_type": "stream",
     "text": [
      "937/937 [==============================] - 24s 24ms/step - loss: 0.1659 - accuracy: 0.9522 - val_loss: 0.0650 - val_accuracy: 0.9808 - lr: 0.0010\n"
     ]
    }
   ],
   "source": [
    "MNIST.train_model(epochs=1)"
   ]
  },
  {
   "cell_type": "code",
   "execution_count": 14,
   "id": "6f9e8f5b-95bc-41a3-9e7b-aa1a0e196309",
   "metadata": {},
   "outputs": [],
   "source": [
    "MNIST.model_visualisation()"
   ]
  },
  {
   "cell_type": "code",
   "execution_count": 15,
   "id": "d015e9fe-07bb-4774-9a9e-c529e030bdb5",
   "metadata": {},
   "outputs": [
    {
     "data": {
      "image/png": "[encoded data removed]",
      "text/plain": [
       "<Figure size 576x432 with 1 Axes>"
      ]
     },
     "metadata": {
      "needs_background": "light"
     },
     "output_type": "display_data"
    }
   ],
   "source": [
    "MNIST.plot_confusion_matrix()"
   ]
  },
  {
   "cell_type": "code",
   "execution_count": 16,
   "id": "b5932de9-e335-4be5-a309-8b2947f469a1",
   "metadata": {},
   "outputs": [
    {
     "data": {
      "image/png": "[encoded data removed]",
      "text/plain": [
       "<Figure size 720x432 with 1 Axes>"
      ]
     },
     "metadata": {
      "needs_background": "light"
     },
     "output_type": "display_data"
    }
   ],
   "source": [
    "MNIST.plot_metric()"
   ]
  },
  {
   "cell_type": "code",
   "execution_count": 17,
   "id": "71161c07-b005-4eb6-8b8c-e9bf97fc9a57",
   "metadata": {},
   "outputs": [
    {
     "data": {
      "image/png": "[encoded data removed]",
      "text/plain": [
       "<Figure size 720x432 with 1 Axes>"
      ]
     },
     "metadata": {},
     "output_type": "display_data"
    }
   ],
   "source": [
    "MNIST.plot_metric(metric='loss')"
   ]
  },
  {
   "cell_type": "code",
   "execution_count": 18,
   "id": "6db09a41-3904-4f81-9ca5-ae17cfe10774",
   "metadata": {},
   "outputs": [
    {
     "data": {
      "image/png": "[encoded data removed]",
      "text/plain": [
       "<Figure size 576x576 with 9 Axes>"
      ]
     },
     "metadata": {},
     "output_type": "display_data"
    }
   ],
   "source": [
    "MNIST.plot_predictions()"
   ]
  },
  {
   "cell_type": "code",
   "execution_count": 21,
   "id": "6e8c1217-8947-4d95-b0be-9df1f15701e7",
   "metadata": {},
   "outputs": [
    {
     "data": {
      "text/plain": [
       "(array(1), 7)"
      ]
     },
     "execution_count": 21,
     "metadata": {},
     "output_type": "execute_result"
    }
   ],
   "source": [
    "(X_train, y_train), (X_test, y_test) = MNIST.preprocess_data(MNIST.X_train, \n",
    "                                                            MNIST.y_train, \n",
    "                                                            MNIST.X_test, \n",
    "                                                            MNIST.y_test)\n",
    "\n",
    "MNIST.predict(X_test[0]), np.argmax(y_test[0])"
   ]
  },
  {
   "cell_type": "code",
   "execution_count": null,
   "id": "7c5c4da9-fd64-4337-a3f2-56f1e627f641",
   "metadata": {},
   "outputs": [],
   "source": [
    "(count/len(X_test)) * 100"
   ]
  },
  {
   "cell_type": "code",
   "execution_count": null,
   "id": "36a9bc8c-54fd-484f-95ba-44e03ae33928",
   "metadata": {},
   "outputs": [],
   "source": [
    "np.argmax(np.where(y_test[1] == 1))"
   ]
  },
  {
   "cell_type": "code",
   "execution_count": null,
   "id": "9fcb533f-fd0c-4d71-b872-8cce3c234b1d",
   "metadata": {},
   "outputs": [],
   "source": [
    "np.argmax(np.where(y_test == 1))"
   ]
  },
  {
   "cell_type": "code",
   "execution_count": null,
   "id": "6f5aea29-b99e-4946-87a7-e926d649ee5c",
   "metadata": {},
   "outputs": [],
   "source": [
    "one_count = 0\n",
    "\n",
    "for i in tqdm(range(len(y_test))):\n",
    "    actual = np.argmax(y_test[i])\n",
    "    if actual == 1:\n",
    "        one_count+=1\n",
    "\n",
    "one_count"
   ]
  },
  {
   "cell_type": "code",
   "execution_count": 22,
   "id": "d92b9c88-6752-4bdc-b204-01b5cb30d043",
   "metadata": {},
   "outputs": [
    {
     "name": "stdout",
     "output_type": "stream",
     "text": [
      "313/313 [==============================] - 1s 4ms/step\n"
     ]
    }
   ],
   "source": [
    "PREDICTIONS = MNIST.model.predict(X_test)"
   ]
  },
  {
   "cell_type": "code",
   "execution_count": 24,
   "id": "be399d61-f391-4785-8af4-883700a9085c",
   "metadata": {},
   "outputs": [
    {
     "name": "stdout",
     "output_type": "stream",
     "text": [
      "313/313 [==============================] - 3s 9ms/step - loss: 0.0650 - accuracy: 0.9808\n",
      "Accuracy: 98.08%\n"
     ]
    }
   ],
   "source": [
    "accuracy = model.evaluate(X_test, y_test)[1]\n",
    "print(f\"Accuracy: {accuracy*100:.2f}%\")"
   ]
  },
  {
   "cell_type": "code",
   "execution_count": 34,
   "id": "f584041e-8d3a-499d-9e19-e8ad909ad5a5",
   "metadata": {},
   "outputs": [
    {
     "name": "stdout",
     "output_type": "stream",
     "text": [
      "              precision    recall  f1-score   support\n",
      "\n",
      "           0       0.97      0.99      0.98       980\n",
      "           1       0.98      1.00      0.99      1135\n",
      "           2       0.98      0.98      0.98      1032\n",
      "           3       0.97      0.99      0.98      1010\n",
      "           4       0.99      0.99      0.99       982\n",
      "           5       0.98      0.99      0.98       892\n",
      "           6       1.00      0.96      0.98       958\n",
      "           7       0.96      0.99      0.97      1028\n",
      "           8       0.99      0.96      0.97       974\n",
      "           9       0.99      0.97      0.98      1009\n",
      "\n",
      "    accuracy                           0.98     10000\n",
      "   macro avg       0.98      0.98      0.98     10000\n",
      "weighted avg       0.98      0.98      0.98     10000\n",
      "\n"
     ]
    }
   ],
   "source": [
    "from sklearn.metrics import classification_report\n",
    "\n",
    "# Convert the predictions to class labels\n",
    "predicted_labels = np.argmax(PREDICTIONS, axis=1)\n",
    "\n",
    "# Generate the classification report\n",
    "classification_rep = classification_report(MNIST.y_test, predicted_labels)\n",
    "print(classification_rep)\n"
   ]
  }
 ],
 "metadata": {
  "kernelspec": {
   "display_name": "Python 3",
   "language": "python",
   "name": "python3"
  },
  "language_info": {
   "codemirror_mode": {
    "name": "ipython",
    "version": 3
   },
   "file_extension": ".py",
   "mimetype": "text/x-python",
   "name": "python",
   "nbconvert_exporter": "python",
   "pygments_lexer": "ipython3",
   "version": "3.8.16"
  }
 },
 "nbformat": 4,
 "nbformat_minor": 5
}
