{
 "cells": [
  {
   "cell_type": "code",
   "execution_count": 95,
   "id": "78edd58b-4895-47a3-ba13-98f53c0e8a73",
   "metadata": {},
   "outputs": [],
   "source": [
    "import pandas as pd\n",
    "import matplotlib.pyplot as plt\n",
    "import matplotlib.animation as animation\n",
    "from IPython.display import clear_output\n",
    "from time import time"
   ]
  },
  {
   "cell_type": "code",
   "execution_count": 128,
   "id": "fddfd5ec-1459-4b8b-ae5a-fb98e4689ba4",
   "metadata": {},
   "outputs": [
    {
     "data": {
      "image/png": "[encoded data removed]",
      "text/plain": [
       "<Figure size 720x360 with 2 Axes>"
      ]
     },
     "metadata": {
      "needs_background": "light"
     },
     "output_type": "display_data"
    }
   ],
   "source": [
    "hash = pd.read_csv('mnist.csv')\n",
    "fig, axs = plt.subplots(1, 2, figsize=(10, 5), sharey=True)\n",
    "def update(frame):\n",
    "    axs[0].cla()\n",
    "    axs[1].cla()\n",
    "\n",
    "    end = (frame*divider) + start\n",
    "    \n",
    "    d_loss1 = hash.d_loss1[start:end]\n",
    "    d_loss2 = hash.d_loss2[start:end]\n",
    "    g_loss = hash.g_loss[start:end]\n",
    "\n",
    "    axs[0].plot(d_loss1, label='D-Real', linestyle='-', linewidth=1)\n",
    "    axs[0].legend()\n",
    "    \n",
    "    axs[1].plot(d_loss2, label='D-Fake', linestyle='-', linewidth=1)\n",
    "    axs[1].plot(g_loss, label='Generator')\n",
    "    axs[1].legend()\n",
    "    # if frame+1 % 100 == 0:\n",
    "    print(f'[{frame+1}/{num_frames}]')\n",
    "    clear_output(wait=True)"
   ]
  },
  {
   "cell_type": "code",
   "execution_count": 198,
   "id": "e70dd5ab-83d8-4e9e-8436-3778d290162d",
   "metadata": {},
   "outputs": [
    {
     "data": {
      "image/png": "[encoded data removed]",
      "text/plain": [
       "<Figure size 720x360 with 2 Axes>"
      ]
     },
     "metadata": {
      "needs_background": "light"
     },
     "output_type": "display_data"
    }
   ],
   "source": [
    "hash = pd.read_csv('mnist.csv')\n",
    "fig, axs = plt.subplots(1, 2, figsize=(10, 5), sharey=True)\n",
    "FONTSIZE = 20\n",
    "def update(frame):\n",
    "    axs[0].cla()\n",
    "    axs[1].cla()\n",
    "    \n",
    "    # end = (frame*divider) + start\n",
    "    \n",
    "    d_loss1 = hash.d_loss1[frame:frame+100]\n",
    "    d_loss2 = hash.d_loss2[frame:frame+100]\n",
    "    g_loss = hash.g_loss[frame:frame+100]\n",
    "\n",
    "    axs[0].plot(d_loss1, label='D-Real', linestyle='-')\n",
    "    axs[0].plot(d_loss2, label='D-Fake', linestyle='--')\n",
    "    axs[0].set_title('Discriminator Classification', fontsize=FONTSIZE-5)\n",
    "    axs[0].tick_params(axis='both', which='major', labelsize=FONTSIZE-7)\n",
    "    axs[0].tick_params(axis='both', which='minor', labelsize=FONTSIZE-7)\n",
    "    axs[0].legend(loc='upper right', fontsize=FONTSIZE-5)\n",
    "    \n",
    "    axs[1].plot(g_loss, label='G-Data', linestyle='-')\n",
    "    axs[1].set_title('Generator Model', fontsize=FONTSIZE-5)\n",
    "    axs[1].tick_params(axis='both', which='major', labelsize=FONTSIZE-7)\n",
    "    axs[1].tick_params(axis='both', which='minor', labelsize=FONTSIZE-7)\n",
    "    axs[1].legend(loc='upper right', fontsize=FONTSIZE-5)\n",
    "\n",
    "    fig.suptitle('cGAN Loss Values (MNIST)', fontsize=FONTSIZE)\n",
    "    fig.tight_layout()\n",
    "    print(f'[{frame+1}/{num_frames}]')\n",
    "    clear_output(wait=False)"
   ]
  },
  {
   "cell_type": "code",
   "execution_count": 200,
   "id": "9c0cd37d-128e-4799-9b9d-99012fff77c5",
   "metadata": {},
   "outputs": [
    {
     "name": "stdout",
     "output_type": "stream",
     "text": [
      "104.04023504257202\n"
     ]
    }
   ],
   "source": [
    "start_time = time()\n",
    "start = 5000\n",
    "divider = 30\n",
    "interval = 1\n",
    "\n",
    "num_frames = (len(hash) // divider)\n",
    "\n",
    "fps = 60\n",
    "# fps = 1000 / (num_frames * interval)\n",
    "\n",
    "anim = animation.FuncAnimation(fig, update, frames=num_frames, interval=interval)\n",
    "writer = animation.FFMpegWriter(fps=fps)\n",
    "anim.save('mnist-loss-animation.gif', writer=writer)\n",
    "end_time = time()\n",
    "\n",
    "print(end_time-start_time)"
   ]
  },
  {
   "cell_type": "markdown",
   "id": "4a2b7b11-c7bb-4491-9c85-90ce47876dd8",
   "metadata": {},
   "source": [
    "# "
   ]
  },
  {
   "cell_type": "code",
   "execution_count": null,
   "id": "d6565308-80fd-4992-b78c-80e0b5abe826",
   "metadata": {},
   "outputs": [],
   "source": []
  }
 ],
 "metadata": {
  "kernelspec": {
   "display_name": "Python 3",
   "language": "python",
   "name": "python3"
  },
  "language_info": {
   "codemirror_mode": {
    "name": "ipython",
    "version": 3
   },
   "file_extension": ".py",
   "mimetype": "text/x-python",
   "name": "python",
   "nbconvert_exporter": "python",
   "pygments_lexer": "ipython3",
   "version": "3.8.16"
  }
 },
 "nbformat": 4,
 "nbformat_minor": 5
}
