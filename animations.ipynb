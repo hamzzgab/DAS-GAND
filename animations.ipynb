{
 "cells": [
  {
   "cell_type": "code",
   "execution_count": 39,
   "id": "ed19b172-81b8-4959-a438-a4f37c11d940",
   "metadata": {},
   "outputs": [],
   "source": [
    "import argparse\n",
    "from pathlib import Path\n",
    "from time import sleep\n",
    "from IPython.display import clear_output\n",
    "\n",
    "import numpy as np\n",
    "from keras.models import load_model\n",
    "\n",
    "import matplotlib.pyplot as plt\n",
    "import matplotlib.animation as animation\n",
    "\n",
    "from gand.data import data"
   ]
  },
  {
   "cell_type": "code",
   "execution_count": 40,
   "id": "892cfd95-05a6-4144-b3ba-796ec0678297",
   "metadata": {},
   "outputs": [],
   "source": [
    "DATASET_INFO = {\n",
    "    'mnist': {\n",
    "        'class_names': [str(i) for i in range(10)],\n",
    "        'input_shape': (28, 28, 1)\n",
    "    },\n",
    "    'fashion_mnist': {\n",
    "        'class_names': ['t-shirt/top', 'trouser', 'pullover', 'dress', 'coat', \n",
    "                        'sandal', 'shirt', 'sneaker', 'bag', 'ankle boot'],\n",
    "        'input_shape': (28, 28, 1)\n",
    "    },\n",
    "    'cifar10':{\n",
    "        'class_names': ['airplane', 'car', 'bird', 'cat', 'deer', \n",
    "                        'dog', 'frog', 'horse', 'ship', 'truck'],\n",
    "        'input_shape': (32, 32, 3)\n",
    "    }\n",
    "}"
   ]
  },
  {
   "cell_type": "code",
   "execution_count": 41,
   "id": "14049acf-0259-411e-a880-0a817e7b0f3d",
   "metadata": {},
   "outputs": [
    {
     "data": {
      "image/png": "[encoded data removed]",
      "text/plain": [
       "<Figure size 720x144 with 10 Axes>"
      ]
     },
     "metadata": {
      "needs_background": "light"
     },
     "output_type": "display_data"
    }
   ],
   "source": [
    "fig, axs = plt.subplots(1, 10, figsize=(10, 2))\n",
    "\n",
    "def update(frame):\n",
    "    print(f'[{frame}/{num_frames}]')\n",
    "    g_model = load_model(f'./notebooks/models/{gan_name}/{dataset_name}/gen_model_e-{frame+1:03d}.h5')\n",
    "    X, y = data.generate_fake_data(n=1, g_model=g_model)\n",
    "    X = (X+1) / 2\n",
    "    for i, ax in enumerate(axs.flatten()):\n",
    "        ax.imshow(X[i], cmap='gray_r')\n",
    "        ax.set_title(DATASET_INFO[dataset_name]['class_names'][y[i]])\n",
    "        ax.axis('off')\n",
    "    fig.suptitle(f'({dataset_name.upper()}) Epoch: {frame+1}', fontsize=20)\n",
    "    plt.tight_layout()\n",
    "    clear_output(wait=True)\n",
    "clear_output(wait=True)"
   ]
  },
  {
   "cell_type": "code",
   "execution_count": 43,
   "id": "f2ac9c9a-c7e8-4356-be79-d40abeb38f72",
   "metadata": {},
   "outputs": [
    {
     "data": {
      "text/plain": [
       "<Figure size 432x288 with 0 Axes>"
      ]
     },
     "metadata": {},
     "output_type": "display_data"
    }
   ],
   "source": [
    "gan_name = 'cgan'\n",
    "dataset_name = 'mnist'\n",
    "\n",
    "cwd = Path.cwd()\n",
    "num_frames = len(list(cwd.glob(f\"**/notebooks/models/{gan_name}/{dataset_name}/*.h5\")))\n",
    "interval = 1\n",
    "fps = 20\n",
    "# fps = 1000 / (num_frames * interval)\n",
    "print(f'FRAMES: {num_frames} | FPS: {fps} | INTERVAL: {interval}')\n",
    "sleep(0.1)\n",
    "anim = animation.FuncAnimation(fig, update, frames=num_frames, interval=interval)\n",
    "\n",
    "\n",
    "filename = f\"animation_{num_frames}_samples.gif\"\n",
    "\n",
    "folder = cwd / Path('reports/animations') / Path(f'{gan_name}/{dataset_name}')\n",
    "folder.mkdir(parents=True, exist_ok=True)\n",
    "\n",
    "writer = animation.FFMpegWriter(fps=fps)\n",
    "print(folder.joinpath(filename))\n",
    "anim.save(folder.joinpath(filename), writer=writer)"
   ]
  },
  {
   "cell_type": "code",
   "execution_count": null,
   "id": "a363a8cc-83e5-4743-a745-1d3ebe187efa",
   "metadata": {},
   "outputs": [],
   "source": []
  },
  {
   "cell_type": "code",
   "execution_count": null,
   "id": "dbb3a75a-f70d-4630-a360-f7be80c36318",
   "metadata": {},
   "outputs": [],
   "source": []
  }
 ],
 "metadata": {
  "kernelspec": {
   "display_name": "Python 3",
   "language": "python",
   "name": "python3"
  },
  "language_info": {
   "codemirror_mode": {
    "name": "ipython",
    "version": 3
   },
   "file_extension": ".py",
   "mimetype": "text/x-python",
   "name": "python",
   "nbconvert_exporter": "python",
   "pygments_lexer": "ipython3",
   "version": "3.8.16"
  }
 },
 "nbformat": 4,
 "nbformat_minor": 5
}
