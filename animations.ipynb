{
 "cells": [
  {
   "cell_type": "code",
   "execution_count": null,
   "id": "ed19b172-81b8-4959-a438-a4f37c11d940",
   "metadata": {},
   "outputs": [],
   "source": [
    "import argparse\n",
    "from pathlib import Path\n",
    "from time import sleep\n",
    "from IPython.display import clear_output\n",
    "\n",
    "import numpy as np\n",
    "from keras.models import load_model\n",
    "\n",
    "import matplotlib.pyplot as plt\n",
    "import matplotlib.animation as animation\n",
    "\n",
    "from gand.data import data"
   ]
  },
  {
   "cell_type": "code",
   "execution_count": null,
   "id": "b70f5a72-2b19-4a62-8409-40973785feb7",
   "metadata": {},
   "outputs": [],
   "source": [
    "%load_ext autoreload\n",
    "%autoreload 2"
   ]
  },
  {
   "cell_type": "markdown",
   "id": "6e43f1cf-5ef5-4784-aa0c-d77e194e8b8a",
   "metadata": {},
   "source": [
    "# Utils"
   ]
  },
  {
   "cell_type": "code",
   "execution_count": null,
   "id": "892cfd95-05a6-4144-b3ba-796ec0678297",
   "metadata": {},
   "outputs": [],
   "source": [
    "DATASET_INFO = {\n",
    "    'mnist': {\n",
    "        'class_names': [str(i) for i in range(10)],\n",
    "        'input_shape': (28, 28, 1)\n",
    "    },\n",
    "    'fashion_mnist': {\n",
    "        'class_names': ['t-shirt/top', 'trouser', 'pullover', 'dress', 'coat', \n",
    "                        'sandal', 'shirt', 'sneaker', 'bag', 'ankle boot'],\n",
    "        'input_shape': (28, 28, 1)\n",
    "    },\n",
    "    'cifar10':{\n",
    "        'class_names': ['airplane', 'car', 'bird', 'cat', 'deer', \n",
    "                        'dog', 'frog', 'horse', 'ship', 'truck'],\n",
    "        'input_shape': (32, 32, 3)\n",
    "    }\n",
    "}"
   ]
  },
  {
   "cell_type": "code",
   "execution_count": null,
   "id": "233fe715-fd9c-44c3-b64a-3b88f8e7827b",
   "metadata": {},
   "outputs": [],
   "source": [
    "gan_name = 'cgan'\n",
    "\n",
    "cwd = Path.cwd()\n",
    "\n",
    "max = 0\n",
    "for i in DATASET_INFO.keys():\n",
    "    total = len(list(cwd.glob(f'**/notebooks/models/{gan_name}/{i}/*.h5')))\n",
    "    DATASET_INFO[i]['total'] = total\n",
    "    if total > max:\n",
    "        max = total\n",
    "\n",
    "num_frames = max\n",
    "interval = 1\n",
    "fps = 60\n",
    "fontsize = 20\n",
    "\n",
    "num_frames, interval, fps"
   ]
  },
  {
   "cell_type": "markdown",
   "id": "8298f2ed-a229-4c04-9ca1-6047b2b1fc30",
   "metadata": {},
   "source": [
    "# Figure"
   ]
  },
  {
   "cell_type": "code",
   "execution_count": null,
   "id": "14049acf-0259-411e-a880-0a817e7b0f3d",
   "metadata": {},
   "outputs": [],
   "source": [
    "fig, axs = plt.subplots(1, 10, figsize=(10, 2))\n",
    "\n",
    "def update(frame):\n",
    "    print(f'[{frame}/{num_frames}]')\n",
    "    g_model = load_model(f'./notebooks/models/{gan_name}/{dataset_name}/gen_model_e-{frame+1:03d}.h5')\n",
    "    X, y = data.generate_fake_data(n=1, g_model=g_model)\n",
    "    X = (X+1) / 2\n",
    "    for i, ax in enumerate(axs.flatten()):\n",
    "        ax.imshow(X[i], cmap='gray_r')\n",
    "        ax.set_title(DATASET_INFO[dataset_name]['class_names'][y[i]])\n",
    "        ax.axis('off')\n",
    "    fig.suptitle(f'({dataset_name.upper()}) Epoch: {frame+1}', fontsize=20)\n",
    "    plt.tight_layout()\n",
    "    clear_output(wait=True)"
   ]
  },
  {
   "cell_type": "code",
   "execution_count": null,
   "id": "845e35af-0674-43e0-95b9-7ff826ac237c",
   "metadata": {},
   "outputs": [],
   "source": [
    "latent_dim, n_samples = 100, 10\n",
    "noise = np.random.randn(latent_dim * n_samples)\n",
    "\n",
    "FONTSIZE = 30\n",
    "\n",
    "fig, axs = plt.subplots(1, 2, figsize=(20, 5))\n",
    "axs[0].plot(noise, color='C0')\n",
    "axs[0].set_title('Noise Generated', fontsize=FONTSIZE)\n",
    "axs[0].tick_params(axis='both', which='major', labelsize=FONTSIZE-10)\n",
    "axs[0].tick_params(axis='both', which='minor', labelsize=FONTSIZE-10)\n",
    "\n",
    "\n",
    "axs[1].hist(noise, bins=100, color='C0')\n",
    "axs[1].set_title('Noise Distribution', fontsize=FONTSIZE)\n",
    "axs[1].tick_params(axis='both', which='major', labelsize=FONTSIZE-10)\n",
    "axs[1].tick_params(axis='both', which='minor', labelsize=FONTSIZE-10)\n",
    "\n",
    "plt.tight_layout()\n",
    "plt.savefig('noise-distribution.png', bbox_inches='tight')\n",
    "plt.show();\n"
   ]
  },
  {
   "cell_type": "code",
   "execution_count": null,
   "id": "f829204e-720d-48d0-b087-76dc09c73ea5",
   "metadata": {},
   "outputs": [],
   "source": [
    "fig, axd = plt.subplot_mosaic([[f'mnist-{i}' for i in range(10)], \n",
    "                               [f'fashion_mnist-{i}' for i in range(10)], \n",
    "                               [f'cifar10-{i}' for i in range(10)],                               \n",
    "                               sorted([i for i in ['noise', 'hist']*5])], figsize=(20, 12), constrained_layout=True)\n",
    "\n",
    "def update(frame):\n",
    "    frame += 1\n",
    "    print(f'[{frame}/{num_frames}]')\n",
    "    \n",
    "    np.random.seed(42)\n",
    "    latent_dim, n_samples = 100, 10\n",
    "    noise = np.random.randn(latent_dim * n_samples)\n",
    "\n",
    "    for dataset_name in DATASET_INFO.keys():\n",
    "        epoch = np.clip(frame, 0, DATASET_INFO[dataset_name]['total'])\n",
    "        g_model = load_model(f'./notebooks/models/{gan_name}/{dataset_name}/gen_model_e-{epoch:03d}.h5')\n",
    "        X, y = data.generate_fake_data(n=1, g_model=g_model, verbose=0)\n",
    "        X = (X + 1) / 2\n",
    "        \n",
    "        for i in range(10):\n",
    "            axd[f'{dataset_name}-{i}'].cla()\n",
    "            axd[f'{dataset_name}-{i}'].imshow(X[i], cmap='gray_r')\n",
    "            axd[f'{dataset_name}-{i}'].set_title(DATASET_INFO[dataset_name]['class_names'][y[i]], \n",
    "                                                 fontsize=fontsize+2)\n",
    "            axd[f'{dataset_name}-{i}'].axis('off')\n",
    "        i = 0\n",
    "        axd[f'{dataset_name}-{i}'].text(-0.5, 0.5, f'E: {epoch:03d}', fontsize=fontsize+5,\n",
    "                                        va='center', ha='center', \n",
    "                                        transform=axd[f'{dataset_name}-{i}'].transAxes)\n",
    "    axd['noise'].plot(noise, color='C1')\n",
    "    axd['hist'].hist(noise, bins=100, color='C1')\n",
    "    clear_output(wait=True)"
   ]
  },
  {
   "cell_type": "code",
   "execution_count": null,
   "id": "f2ac9c9a-c7e8-4356-be79-d40abeb38f72",
   "metadata": {},
   "outputs": [],
   "source": [
    "anim = animation.FuncAnimation(fig, update, frames=num_frames, interval=interval)\n",
    "\n",
    "filename = f\"animation.gif\"\n",
    "\n",
    "# folder = cwd / Path('reports/animations') / Path(f'{gan_name}/{dataset_name}')\n",
    "folder = cwd / Path('reports/animations') / Path(f'{gan_name}')\n",
    "\n",
    "folder.mkdir(parents=True, exist_ok=True)\n",
    "\n",
    "writer = animation.FFMpegWriter(fps=fps)\n",
    "print(folder.joinpath(filename))\n",
    "anim.save(folder.joinpath(filename), writer=writer)"
   ]
  },
  {
   "cell_type": "code",
   "execution_count": null,
   "id": "dbb3a75a-f70d-4630-a360-f7be80c36318",
   "metadata": {},
   "outputs": [],
   "source": []
  }
 ],
 "metadata": {
  "kernelspec": {
   "display_name": "Python 3",
   "language": "python",
   "name": "python3"
  },
  "language_info": {
   "codemirror_mode": {
    "name": "ipython",
    "version": 3
   },
   "file_extension": ".py",
   "mimetype": "text/x-python",
   "name": "python",
   "nbconvert_exporter": "python",
   "pygments_lexer": "ipython3",
   "version": "3.8.16"
  }
 },
 "nbformat": 4,
 "nbformat_minor": 5
}
